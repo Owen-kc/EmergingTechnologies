{
 "cells": [
  {
   "cell_type": "markdown",
   "metadata": {},
   "source": [
    "## Task 1\n",
    "\n",
    "To verify the first 10,000 positive integers follow the collatz conjecture, we must first define the criteria of the problem. \n",
    "\n",
    "1. The number must be any positive integer, which we will take as: n\n",
    "2. If n is even, we then need to divide it by 2 to get: n/2\n",
    "3. If n is odd, we then need to multiply it by 3 and add 1 to get: 3n+1\n",
    "4. Repeat the process\n",
    "\n",
    "To prove this in python, we first will define a function which will take n as a parameter, which we can then use to verfiy if n follows the criteria of the collatz conjecture and is true."
   ]
  },
  {
   "cell_type": "code",
   "execution_count": 15,
   "metadata": {},
   "outputs": [],
   "source": [
    "def collatz_conjecture(n):\n",
    "    conjecture = [n]\n",
    "    while n != 1:\n",
    "        n = n // 2 if n % 2 == 0 else 3 * n + 1\n",
    "        conjecture.append(n)\n",
    "    return conjecture"
   ]
  },
  {
   "cell_type": "markdown",
   "metadata": {},
   "source": [
    "In the code above, we are initializing conjecture as a list. Then, we are applying the criteria of the collatz conjecture to n and appending it to the list, and then returning it. \n",
    "\n",
    "The result of the criteria of the collatz conjucture being applied to n will be appeneded to the list, and we can check what the values are within this list to verify if the collatz conjuncture is true for any given integer.\n",
    "\n",
    "Now, we must set a limit of 10,000, for the first 10,000 positive integers, and use a for loop to iterate through from 1 -> 10,000. "
   ]
  },
  {
   "cell_type": "code",
   "execution_count": 16,
   "metadata": {},
   "outputs": [
    {
     "name": "stdout",
     "output_type": "stream",
     "text": [
      "Collatz conjecture is true for all integers up to 10000\n"
     ]
    }
   ],
   "source": [
    "limit = 10000\n",
    "\n",
    "for i in range(1, limit + 1):\n",
    "    conjecture = collatz_conjecture(i)\n",
    "    if conjecture[-1] != 1:\n",
    "        print(f\"Collatz conjecture is not true for n = {i}\")\n",
    "\n",
    "print(\"Collatz conjecture is true for all integers up to\", limit)"
   ]
  },
  {
   "cell_type": "markdown",
   "metadata": {},
   "source": [
    "In the code above, we set the limit to 10,000, and then define this in the for loop. The loop then interates from 1 -> 10,000, and calls the method we defined. This method then applies the criteria of the collatz conjecture to n, as mentioned prior. The loop does this for each integer below the limit that we defined.\n",
    "\n",
    "In this piece of code: \"if conjecture[-1] != 1:\", we check if the last element in the list is equal to 1. If the last element in the list is **not** equal to 1, this means that the collatz conjecture is not true for this integer, which would prove that it is not true for the first 10,000 positive integers. \n",
    "\n",
    "After running the code above, it's clear that the collatz conjecture is true for the first 10,000 positive integers."
   ]
  }
 ],
 "metadata": {
  "kernelspec": {
   "display_name": "base",
   "language": "python",
   "name": "python3"
  },
  "language_info": {
   "codemirror_mode": {
    "name": "ipython",
    "version": 3
   },
   "file_extension": ".py",
   "mimetype": "text/x-python",
   "name": "python",
   "nbconvert_exporter": "python",
   "pygments_lexer": "ipython3",
   "version": "3.11.4"
  },
  "orig_nbformat": 4
 },
 "nbformat": 4,
 "nbformat_minor": 2
}
