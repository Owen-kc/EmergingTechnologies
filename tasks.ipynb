{
 "cells": [
  {
   "cell_type": "markdown",
   "metadata": {},
   "source": [
    "## Task 1\n",
    "\n",
    "To verify the first 10,000 positive integers follow the collatz conjecture, we must first define the criteria of the problem. \n",
    "\n",
    "1. The number must be any positive integer, which we will take as: n\n",
    "2. If n is even, we then need to divide it by 2 to get: n/2\n",
    "3. If n is odd, we then need to multiply it by 3 and add 1 to get: 3n+1\n",
    "4. Repeat the process\n",
    "\n",
    "To prove this in python, we first will define a function which will take n as a parameter, which we can then use to verfiy if n follows the criteria of the collatz conjecture and is true."
   ]
  },
  {
   "cell_type": "code",
   "execution_count": 152,
   "metadata": {},
   "outputs": [],
   "source": [
    "def collatz_conjecture(n):\n",
    "    conjecture = [n]\n",
    "    while n != 1:\n",
    "        n = n // 2 if n % 2 == 0 else 3 * n + 1\n",
    "        conjecture.append(n)\n",
    "    return conjecture"
   ]
  },
  {
   "cell_type": "markdown",
   "metadata": {},
   "source": [
    "In the code above, we are initializing conjecture as a list. Then, we are applying the criteria of the collatz conjecture to n and appending it to the list, and then returning it. \n",
    "\n",
    "The result of the criteria of the collatz conjucture being applied to n will be appeneded to the list, and we can check what the values are within this list to verify if the collatz conjuncture is true for any given integer.\n",
    "\n",
    "Now, we must set a limit of 10,000, for the first 10,000 positive integers, and use a for loop to iterate through from 1 -> 10,000. "
   ]
  },
  {
   "cell_type": "code",
   "execution_count": 153,
   "metadata": {},
   "outputs": [
    {
     "name": "stdout",
     "output_type": "stream",
     "text": [
      "Collatz conjecture is true for all integers up to 10000\n"
     ]
    }
   ],
   "source": [
    "limit = 10000\n",
    "\n",
    "for i in range(1, limit + 1):\n",
    "    conjecture = collatz_conjecture(i)\n",
    "    if conjecture[-1] != 1:\n",
    "        print(f\"Collatz conjecture is not true for n = {i}\")\n",
    "\n",
    "print(\"Collatz conjecture is true for all integers up to\", limit)"
   ]
  },
  {
   "cell_type": "markdown",
   "metadata": {},
   "source": [
    "In the code above, we set the limit to 10,000, and then define this in the for loop. The loop then interates from 1 -> 10,000, and calls the method we defined. This method then applies the criteria of the collatz conjecture to n, as mentioned prior. The loop does this for each integer below the limit that we defined.\n",
    "\n",
    "In this piece of code: \"if conjecture[-1] != 1:\", we check if the last element in the list is equal to 1. If the last element in the list is **not** equal to 1, this means that the collatz conjecture is not true for this integer, which would prove that it is not true for the first 10,000 positive integers. \n",
    "\n",
    "After running the code above, it's clear that the collatz conjecture is true for the first 10,000 positive integers."
   ]
  },
  {
   "cell_type": "markdown",
   "metadata": {},
   "source": [
    "## Task 2\n",
    "\n"
   ]
  },
  {
   "attachments": {
    "image.png": {
     "image/png": "[encoded data removed]"
    }
   },
   "cell_type": "markdown",
   "metadata": {},
   "source": [
    "In python, we typically use the math operator to solve something like a square root. However, Square roots can be difficult to calculate. We can use Newton's method to approximate the value of a square root through python instead. First, we must break down the method so we have a clear understanding of what it does and why it is useful. Below is Newton's method for context:\n",
    "\n",
    "![image.png](attachment:image.png)"
   ]
  },
  {
   "cell_type": "markdown",
   "metadata": {},
   "source": [
    "- $ z_i $ represents the current guess of the square root which is $ x $. \n",
    "- $ z_i  \\times  z_i $ squares our current guess.\n",
    "- $ z_i  \\times  z_i - x $ calculates the difference between our current guess and $ x $ which represents the actual number.\n",
    "- $ \\frac{z_i \\times z_i - x}{2z_i} $ represents the error of our guess which is then divided by $ 2z_i  $\n",
    "- $ 2z_i $ represents twice the value of $  z_i $. Dividing by this scales the error, making the margin of error smaller, and brings us closer to the true result.\n",
    "- $ z_{i+1} = z_i - \\frac{z_i \\times z_i - x}{2z_i} $ is the full function. It subtracts the scaled error from the current guess we defined at the start, $ z_1 $, and corrects the current guess which brings us closer to the actual square root of $ x $\n",
    "\n",
    "This is how Newton's method works overall. To calculate this in python, we need to convert the formula to something that we can work with in python itself. We can directly translate the formula to python with the following code:\n",
    "\n"
   ]
  },
  {
   "cell_type": "markdown",
   "metadata": {},
   "source": [
    "First we must define a function which uses the sqrt method of python. In this method, we define z, which is our current guess, and previous_z, which will be used to store the value of previous guesses, so we can use it to check against the value of our current guess to determine when the method has reached an acceptable approximation. We also must set a threshold that is used to measure the precision that the answer will achieve. The threshold will then be used in a loop to execute the program where the current guess will be compared to the previous guesses while the difference is above the defined threshold."
   ]
  },
  {
   "cell_type": "code",
   "execution_count": 154,
   "metadata": {},
   "outputs": [
    {
     "name": "stdout",
     "output_type": "stream",
     "text": [
      "4.472137791286727\n"
     ]
    }
   ],
   "source": [
    "def sqrt(x):\n",
    "\n",
    "    #Define current & previous guesses\n",
    "    z = 5\n",
    "    previous_z = 0\n",
    "    threshold = 0.01\n",
    "\n",
    "    #Loop, repeats while the difference in the current & previous guesses is larger than the threshold\n",
    "    while abs(z - previous_z) > threshold:\n",
    "        previous_z = z                                      #Set previous guess to current guess\n",
    "        z -= (z * z - x) / (2 * z)                      #Formula in python\n",
    "    return z  \n",
    "\n",
    "#We can then prodice an output of the function by calling it\n",
    "result = sqrt(20)\n",
    "print(result)\n",
    "\n",
    "\n",
    "                                      "
   ]
  },
  {
   "cell_type": "markdown",
   "metadata": {},
   "source": [
    "In the code above:\n",
    "- z is equivalent to $ z_i $ in the formula, which is the current guess.\n",
    "- x is equivalent to the number whose square root we want to find.\n",
    "- z * z is $ z_i \\times z_i $ in the formula.\n",
    "- z * z - x represents the difference between the square of our guess and the actual number\n",
    "- (z * z - x) / (2 * z) is the scaled error, being divided by 2 * z which is $ 2z $ in the formula.\n",
    "- z -= represents the updating of the current guess with the subtraction of the scaled error, which corresponds to the begginning of the formula.\n",
    "\n",
    "The number that is being passed through the function in the example above is 20, so my initial guess is 5. The loop is called and the current guess is continously compared against the previous guess using the formula \"z -= (z * z - x) / (2 * z)\", which improves the guess closer to the actual true result as I mentioned before.\n",
    "\n",
    "The code above shows how we can use Newtons formula to improve our initial guess for the square root of $ x $ within the threshold we defined of 0.01."
   ]
  },
  {
   "cell_type": "markdown",
   "metadata": {},
   "source": [
    "## Task 3\n",
    "\n",
    "To understand how many possible functions there are under the circumstance of the function taking 4 bits, and outputting a single bit, we first need to define booleans. A boolean value will return either true or false, in this example, 0 or 1. In boolean logic, 0 represents false and 1 represents true. \n",
    "\n",
    "Each bit has 2 values, and there are 4 bits in total which are being input into the function. This means that the total possible number of input combinations is 2^4."
   ]
  },
  {
   "cell_type": "code",
   "execution_count": 155,
   "metadata": {},
   "outputs": [
    {
     "name": "stdout",
     "output_type": "stream",
     "text": [
      "16\n"
     ]
    }
   ],
   "source": [
    "possible_inputs = 2 ** 4\n",
    "print(possible_inputs)"
   ]
  },
  {
   "cell_type": "markdown",
   "metadata": {},
   "source": [
    "As we can see above, there are 16 possible inputs for the function. We know that for the 16 possible input combinations, there are two potential outputs, 1 & 2. This means that there are 2^16 potential functions."
   ]
  },
  {
   "cell_type": "code",
   "execution_count": 156,
   "metadata": {},
   "outputs": [
    {
     "name": "stdout",
     "output_type": "stream",
     "text": [
      "65536\n"
     ]
    }
   ],
   "source": [
    "possible_functions = 2 ** 16\n",
    "print(possible_functions)"
   ]
  },
  {
   "cell_type": "markdown",
   "metadata": {},
   "source": [
    "We can see above that there are 65,536 possible functions, provided the function takes 4 bits as an input, and outputs 1 bit."
   ]
  },
  {
   "cell_type": "code",
   "execution_count": 157,
   "metadata": {},
   "outputs": [],
   "source": [
    "import random\n",
    "\n",
    "# Generate a random 4-bit to 1-bit function\n",
    "random_function = [random.choice([0, 1]) for _ in range(16)]\n",
    "\n"
   ]
  }
 ],
 "metadata": {
  "kernelspec": {
   "display_name": "base",
   "language": "python",
   "name": "python3"
  },
  "language_info": {
   "codemirror_mode": {
    "name": "ipython",
    "version": 3
   },
   "file_extension": ".py",
   "mimetype": "text/x-python",
   "name": "python",
   "nbconvert_exporter": "python",
   "pygments_lexer": "ipython3",
   "version": "3.11.4"
  },
  "orig_nbformat": 4
 },
 "nbformat": 4,
 "nbformat_minor": 2
}
