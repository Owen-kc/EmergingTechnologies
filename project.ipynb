{
 "cells": [
  {
   "cell_type": "markdown",
   "metadata": {},
   "source": [
    "# Deutsch's Algorithm\n",
    "***\n",
    "In this notebook, we will be exploring Deutsch's Algorithm, a fundamental concept that has laid the foundation for quantum computing.\n",
    "\n",
    "# Table of Contents\n",
    "1. [Introduction to Quantum Computing](#intro)\n",
    "    1. [Historical Context](#history)\n",
    "    2. [Fundamentals of Quantum Computing](#quantum)\n",
    "        1. [Qubits](#quantum-qubits)\n",
    "        2. [Quantum Superposition](#quantum-superposition)\n",
    "        3. [Quantum Entanglement](#quantum-entaglement)\n",
    "        4. [Quantum Gates & Circuits](#quantum-gatescircuits)\n",
    "2. [Deutsch's Algorithm](#deutschalgo)\n",
    "     1. [Deutsch's Problem](#deutschalgo-problem)\n",
    "     2. [The Oracle](#deutschalgo-oracle)\n",
    "     3. [The Quantum Circuit](#deutschalgo-circuit)\n",
    "3. [Qiskit](#qiskit)\n",
    "    1. [Introduction to Qiskit](#qiskit-intro)\n",
    "        1. [Installing Qiskit](#qiskit-install)\n",
    "        2. [Fundamental Concepts in Qiskit](#qiskit-fundamentals)\n",
    "4. [Deutsch's Algorithm in Qiskit](#deutsch-qiskit)\n",
    "    1. [Building the Quantum Circuit](#deutsch-circuit)\n",
    "        1. [The Completed Quantum Circuit](#deutsch-completedcircuit)\n",
    "    2. [Running the Simulation](#deutsch-simulation)\n",
    "5. [Results](#results)\n",
    "6. [Conclusion](#conclusion)\n",
    "7. [References](#refrences)"
   ]
  },
  {
   "cell_type": "markdown",
   "metadata": {},
   "source": [
    "<a id='intro'></a>\n",
    "# Introduction to Quantum Computing\n",
    "***\n",
    "\n",
    "At its core, quantum computing is a rapidly-emerging technology that harnesses the laws of quantum mechanics to solve problems too complex for classical computers [<a href=\"#1\">1</a>]. Quantum computers use quantum mechanics concepts such as quantum interference, superposition and entaglement to perform calculations. The main difference between a quantum computer and a classical computer is the way in which they use bits. A classical computer uses bits that are either 0 or 1, whereas a quantum computer uses quantum bits, better known as qubits, which can exist in multiple states simultaneously. In concept, this allows quantum computers to process a significant amount of information at once in comparison to a classical computer. At the moment, quantum computers are unable to solve a meaningful task more efficiently than a classical computer, as quantum computers today have a relatively small number of qubits. More qubits are required to be able to reach the potential to solve complex problems efficiently. Quantum computers have difficulty maintaining qubit stability, which restricts what tasks can be performed without high error rates. Unfortunately it's not as simple as adding more qubits, as scaling up the number of qubits while maintaining consistency and coherence can be costly, and technically challenging. While quantum computing has been a concept for several decades, these issues are what classifies quantum computing as an emerging technology. It's clear there is enormous potential, but there needs to be some more research and computational advances before we can say quantum computers could take the place of classical computers.\n",
    "\n",
    "<a id=\"history\"></a>\n",
    "## Historical Context\n",
    "\n",
    "The theoretical foundation for quantum computing was largely laid in the 1980's by Richard Feynman. In a paper published by Feynman in 1982, *Simulating Physics with Computers* [<a href=\"#2\">2</a>], he stated the difficulty that classical computers face when attempting to simulate quantum systems. In this paper, he proposes that a computer which uses the concepts of quantum mechanics would be much more suited to this task, and highlighted how quantum mechanics could potentially provide new ways of storing and processing information in comparison to classical computers. This paper, among other contributions from Feynman, laid the foundation of quantum computing and conceptualized aspects that are still influential to this day.\n",
    "\n",
    "David Deustch, the creator of the algorithm that this project focuses on, extended Feynman's idea of the quantum computer by forming the quantum Turing machine, which serves as a foundational model for quantum computing. It demonstrated how a quantum computer could surpass classical computers. Deustch then went on to develop the aptly named Deustch's Algorithm which was one of the first algorithms ever designed for a quantum computer.\n",
    "\n",
    "<a id='quantum'></a>\n",
    "## Fundamentals of Quantum Computing\n",
    "\n",
    "<a id='quantum-bits'></a>\n",
    "### Qubits\n",
    "Qubits are essentially the building blocks of quantum computing. In classical computers, traditional bits represent a basic piece of information and can exist as either 0 or 1. In quantum computers, qubits are used instead. These bits use a quantum mechanics concept called superposition which allows the qubit to exist as 0, 1, or a linear combination of both states at the same time. Qubits are typically represented visually as |0⟩ or |1⟩. Qubits are fragile, and the disruption of an environment containing qubits can easily damage the system and cause decoherence [<a href=\"#3\">3</a>]. Qubits can be implemented in a variety of ways, such as trapped ions, artifical or real atoms, or quasiparticles.\n",
    "\n",
    "<a id='quantum-superposition'></a>\n",
    "### Quantum Superposition\n",
    "Funadamentally, quantum superposition is a principle in quantum mechancis where a quantum system can exist simultaneously in multiple states. A qubit can exist as both 0 and 1 at the same time, which is an example of quantum superposition. In the context of qubits, information being able to represent two values at the same time allows for a vast amount of information to be computed in parallel. \n",
    "\n",
    "<a id='quantum-entaglement'></a>\n",
    "### Quantum Entaglement\n",
    "Quantum entaglement is a complex phenomenon in quantum computing. Famously, Einstein referred to quantum entaglement as \"spooky action at a distance\" [<a href=\"#4\">4</a>]. With modern computational advances, we can now better understand entaglement. Quantum entaglement is essentially the exchange of quantum information between two particles at a distance. When in an entagled state, the quantum state of a particle cannot be described independently of another state, regardless of the particles distance. This means that the state of the two particles are inherently influenced by eachother [<a href=\"#5\">5</a>]. \n",
    "\n",
    "<a id='quantum-gatescircuits'></a>\n",
    "### Quantum Gates & Circuits\n",
    "Quantum gates are essential to quantum computing and mechanics. Quantum gates operate on qubits, manipulating their states. As we know, qubits can exist in a linear state of both 0 and 1 due to superposition and entaglement, which means that quantum gates offer more potential operations compared to classical logic gates. A fundamental quantum gate is the identity gate, which operates on a single qubit. The identity gate is the simplest quantum gate poissible. The identity gate is defined as follows [<a href=\"#8\">8</a>]:\n",
    "\n",
    "$$ I |0\\rangle = |0\\rangle $$\n",
    "$$ I |1\\rangle = |1\\rangle $$\n",
    "\n",
    "We can convert the identity gate into a matrix form, which looks like this:\n",
    "\n",
    "$$\n",
    "I = \\begin{pmatrix} 1 & 0 \\\\ 0 & 1 \\end{pmatrix}\n",
    "$$\n",
    "\n",
    "If we pass a qubit through the gate, its state should remain unchanged. Let us pass through a qubit |0⟩ to see how the gate functions.\n",
    "\n",
    "$$\n",
    "I |0\\rangle = \\begin{pmatrix} 1 & 0 \\\\ 0 & 1 \\end{pmatrix} \\begin{pmatrix} 1 \\\\ 0 \\end{pmatrix} = \\begin{pmatrix} 1 \\\\ 0 \\end{pmatrix}\n",
    "$$\n",
    "\n",
    "As we can see, the value of the qubit remains unchanged after it passes through the gate. The gate functions the same for a qubit value of |1⟩ or a qubit in superposition, leaving the state of the qubit identical to what it was before the gate was applied [<a href=\"#6\">6</a>]. This is why the identity gate is the simplest quantum gate possible, as it essentially acts as a \"do nothing\" operation. \n",
    "\n",
    "Quantum circuits represent an ordered sequence of quantum gates in a specific arrangment in order to achieve a quantum computation [<a href=\"#7\">7</a>]. Quantum circuits operate with qubits, as most quantum computing concepts do. \n"
   ]
  },
  {
   "cell_type": "markdown",
   "metadata": {},
   "source": [
    "<a id=\"deutschalgo\"></a>\n",
    "# Deutsch's Algorithm\n",
    "***\n",
    "\n",
    "Now that we understand the fundamental concepts of quantum computing, we can begin to cover the titular Deutsch's Algorithm. The algorithm was created by David Deutsch, who is a renowned British physicist. Deutsch is a pioneer in quantum computing, laying the foundation not only through Deutsch's algorithim but also through his ideas such as the quantum turing machine and his published books, *The Fabric of Reality* and *The Begginning of Infinity* which cover quantum computing. Deutsch's algorithm was the first algorithm that demonstrated quantum advantage, where a quantum computer could solve a problem faster than a classical computer. Deutsch's algorithm determines if a given quantum oracle is constant or balanced. It uses quantum mechanics such as superposition to do this in one operation, which is more efficient than a classical computer.\n",
    "\n",
    "<a id='deutschalgo-problem'></a>\n",
    "## Deutsch's Problem\n",
    "Deutsch's algorithm solves Deutsch's problem, which is defined as follows [<a href=\"#8\">8</a>]:\n",
    "\n",
    "**Input:** a function $ f:{0,1}→{0,1} $\n",
    "\n",
    "**Output:** 0 if $ f $ is constant, 1 if $ f $ is balanced\n",
    "\n",
    "Deutsch's problem at its core is a simple function, it takes a single bit as input and outputs a single bit. There are four potential one-bit to one-bit functions in the context of Deutsch's algorithm:\n",
    "\n",
    "1. **f1 (Constant)**: Outputs 0 for both inputs: $ f(0) = 0, f(1) = 0 $.\n",
    "2. **f2 (Balanced)**: Outputs 0 for input 0 and 1 for input 1: $ f(0) = 0, f(1) = 1 $.\n",
    "3. **f3 (Balanced)**: Outputs 1 for input 0 and 0 for input 1: $ f(0) = 1, f(1) = 0 $.\n",
    "4. **f4 (Constant)**: Outputs 1 for both inputs: $ f(0) = 1, f(1) = 1 $.\n",
    "\n",
    "\n",
    "In Deutsch's problem, these functions are represented as oracles. The goal is to determine if the function is balanced or constant. With a classical query, it must query both bits, as it can only test one input at a time, and it needs to check both inputs to determine if the function is constant or balanced. However, if we use Deutsch's algorithm, we can leverage quantum mechanics through superposition. We know that superposition allows a qubit to exist in multiple states simultaneously, which means that we can test the problem with a single query. This is why Deutsch's algorithm showcases quantum advantage.\n",
    "\n",
    "<a id='deutschalgo-oracle'></a>\n",
    "## The Oracle\n",
    "Throughout the project, we have briefly mentioned oracles, but in this section we will go in depth into oracles and the function they carry out in the context of Deutsch's algorithm. We know that the general goal of the Deutsch's algorithm is to determine whether a function is balanced or constant. The oracle, usually notated as $Uf$ plays a pivotal role in Deutsch's algorithm, as it represents the actual function that we want to determine the status of. Oracles can also be reffered to as \"black box\" operations. This means that we can only see the inputs and the outputs of the function, without knowing the specific internal workings. \n",
    "\n",
    "In a quantum circuit, qubits are passed through Hadamard gates, which changes their state to a superposition, before they interact with the oracle. When the qubits interact with the oracle, they are encoded with the nature of the function, and depending on the nature of the function, are altered or left unaltered, which is critical to determining whether a function is balanced or constant. For a constant function, the oracle leaves the qubits unchanged. For a balanced function, the oracle introduces change to the qubit [<a href=\"#9\">9</a>]. The transformation of these states is the core of the algorithm, as it is what allows quantum mechanics to complete the operation in one query, in contrast to the classical computers two. To demonstrate this, we can utilize the quantum circuit for Deutsch's algorithm below.\n",
    "\n",
    "<a id='deutschalgo-circuit'></a>\n",
    "## The Quantum Circuit\n",
    "Now that we know what purpose of Deutsch's algorithm and the role of oracles, we can go more in depth into how the algorithm works before we implement it in qiskit. Below is the quantum circuit that describes Deutsch's algorithm [<a href=\"#8\">8</a>]:\n",
    "\n",
    "![Deutsch-algorithm-circuit](./images/deutsch-circuit.png \"Deutsch's algorithm circuit\")\n",
    "\n",
    "1. First, we start with two qubits, ∣0⟩ and ∣1⟩. \n",
    "2. Then, we mix the states of the qubits using the Hadamard gates, which creates an environment for superposition.\n",
    "3. $ Uf $ represents the oracle, which is the function.\n",
    "4. Then, we mix the first qubit again with the Hadamard gate.\n",
    "5. Finally, we measure the first qubit.\n",
    "\n",
    "We know that there are two states a function can be classified as: **Constant** and **Balanced**. Since we are measuring the first qubit, which is ∣0⟩, we know that the function is constant if the result is 0 and balanced if the result is 1. This is because if the result is 0, nothing has changed our qubits from their original state, and if the result is 1, it means that the process transformed our qubits from its original state. The reason the are considered balanced if they change is because a balanced function causes a unique transformation in the quantum state [<a href=\"#10\">10</a>]. "
   ]
  },
  {
   "cell_type": "markdown",
   "metadata": {},
   "source": [
    "<a id='qiskit'></a>\n",
    "# Qiskit\n",
    "***\n",
    "Now that we understand how Deutsch's algorithm works, we can demonstrate the algorithm in Qiskit. Qiskit is an open source quantum computing software from IBM. We will first briefly go over what Qiskit is before installing it.\n",
    "\n",
    "<a id='qiskit-intro'></a>\n",
    "## Introduction to Qiskit\n",
    "Qiskit is an open source tool developed for quantum computing, developed by IBM. It's designed to write quantum computing algorithm, running them on quantum machines through IBM Q, and then simulating them on classical computers. There are several different elements of Qiskit:\n",
    "- Terra: Foundation for quantum circuits, qubit management, circuit creation and gate operations\n",
    "- Aer: Provides a simulation environment to test and validate quantum circuits on classical computers.\n",
    "- Ignis: Mainly used for error correction, essential for achieving reliable results.\n",
    "- Aqua: Hosts the libraries of quantim algorithms and applications.\n",
    "\n",
    "When simulating Deutsch's algorithm, we will mainly use Terra and Aer for building the quantum circuit and simulating it. We don't particularly require the use of Ignis or Aqua, as they aren't relevant to Deutsch's Algorithm.\n",
    "\n",
    "Here's how they interact with eachother [<a href=\"#11\">11</a>]:\n",
    "\n",
    "![Qiskit-overview](./images/qiskit-overview.png \"Overview of Qiskit foundation\")\n",
    "\n",
    "<a id='qiskit-install'></a>\n",
    "### Installing Qiskit\n",
    "First, we need to ensure Qiskit is installed. If Anaconda or Miniconda was used to install, Qiskit should be installed:\n",
    "```\n",
    "pip install qiskit \n",
    "```"
   ]
  },
  {
   "cell_type": "markdown",
   "metadata": {},
   "source": [
    "Then, let's check the version to ensure we have the latest version:"
   ]
  },
  {
   "cell_type": "code",
   "execution_count": 21,
   "metadata": {},
   "outputs": [
    {
     "name": "stdout",
     "output_type": "stream",
     "text": [
      "0.45.1\n"
     ]
    }
   ],
   "source": [
    "import qiskit\n",
    "print(qiskit.__version__)"
   ]
  },
  {
   "cell_type": "markdown",
   "metadata": {},
   "source": [
    "We can see that the latest version of Qiskit is intsalled."
   ]
  },
  {
   "cell_type": "markdown",
   "metadata": {},
   "source": [
    "<a id='qiskit-fundamentals'></a>\n",
    "#### Fundamental Concepts in Qiskit\n",
    "Before we delve into creating Deutsch's algorithm in Qiskit, we first will take a simple example, so we have an understanding of how exactly Qiskit works. This example is referred to as the \"Hello World\" example by IBM, which essentially means that it is the simplest example possible. In a quantum program, quantum circuits are the format to represent quantum instructions, and operators represent the observables to be measured[<a href=\"#12\">12</a>]. In the example below, we will create a simple circuit with Qiskit. We will first install matplotlib and pylatexenc to visualize the circuit:\n",
    "\n",
    "```\n",
    "pip install --user matplotlib pylatexenc\n",
    "```"
   ]
  },
  {
   "cell_type": "code",
   "execution_count": 2,
   "metadata": {},
   "outputs": [
    {
     "data": {
      "image/png": "[encoded data removed]",
      "text/plain": [
       "<Figure size 287.294x200.667 with 1 Axes>"
      ]
     },
     "execution_count": 2,
     "metadata": {},
     "output_type": "execute_result"
    }
   ],
   "source": [
    "from qiskit import QuantumCircuit\n",
    " \n",
    "#Create a new circuit with two qubits\n",
    "qc = QuantumCircuit(2)\n",
    " \n",
    "# Add a Hadamard gate to qubit 0\n",
    "qc.h(0)\n",
    " \n",
    "# Perform a CNOT gate on qubit 1\n",
    "qc.cx(0, 1)\n",
    " \n",
    "# Return a drawing of the circuit using MatPlotLib (\"mpl\").\n",
    "qc.draw(\"mpl\") #update this with mpl"
   ]
  },
  {
   "cell_type": "markdown",
   "metadata": {},
   "source": [
    "We can see a very simple circuit above, which has two qubits. Qubit 0 has a Hadamard gate applied to it, while qubit 1 has CNOT, also known as the Controlled NOT gate applied to it. The Hadamard gate puts qubit 0 into a superposition state, while the CNOT gate performs a conditional operation where the state of the second qubit is flipped only if the first qubit is in the state |1⟩."
   ]
  },
  {
   "cell_type": "markdown",
   "metadata": {},
   "source": [
    "<a id='deutsch-qiskit'></a>\n",
    "# Deutsch's Algorithm in Qiskit\n",
    "***\n",
    "Now that we have a grounding in the fundamentals of quantum computing, and an introduction to the essential components of Qiskit, we can begin implementing Deutsch's algorithm in Qiskit. Although it was mentioned previously in the project, let's provide an overview of the goal of Deutsch's algorithm and the result we are looking to achieve in this section, for clarity.\n",
    "\n",
    "#### Goal of Deutsch's algorithm\n",
    "Deutsch's algorithm represents a fundamental concept in quantum computing. It demonstrates quantum advantage, which means that a quantum computer has an advantage over a classical computer, or in other words, can complete an operation more efficiently. The overall goal of the algorithm is to determine whether a given function, also referred to as an oracle or black box operation, is either a **constant** function or a **balanced** function. In classical computers, determining this would require multiple queries. However, Deutsch's algorithm can apply quantum mechanics like superposition and interference to complete determine the result in a single query.\n",
    "\n",
    "#### Expected result\n",
    "The expected result of applying Deutsch's algorithm will be dependant on the oracle. \n",
    "\n",
    "- If the oracle represents a **constant** function, the qubits in the quantum circuit will return to their original state.\n",
    "- If the oracle represents a **balanced** function, the qubits in the quantim circuit will be altered.\n",
    "\n",
    "We should be able to determine the result in a single query, in line with our expectation of demonstrating quantum advantage.  It's important to remember that with Deutsch's algorithm, we typically only test for the first qubit.\n",
    "\n",
    "<a id='deutsch-circuit'></a>\n",
    "## Building the Quantum Circuit\n",
    "Let's begin by starting our implementation of the quantum circuit for Deutsch's algorithm. First, we want to implement a method for generating different versions of the oracle, so that we can test for both a constant function and a balanced function [<a href=\"#13\">13</a>]. While we would be able to construct a static constant or balanced circuit, we then wouldn't be able to test for a specific case number. Each case number will represent a function, whether it be balanced or constant, so we need a function to define these.\n"
   ]
  },
  {
   "cell_type": "code",
   "execution_count": 7,
   "metadata": {},
   "outputs": [],
   "source": [
    "from qiskit import QuantumCircuit\n",
    "\n",
    "# Define method to create a specific function, pass case number as a parameter\n",
    "def create_oracle(case):\n",
    "    oracle = QuantumCircuit(2)\n",
    "    if case == 1:       # 1 - Constant function (do nothing)\n",
    "        pass\n",
    "    elif case == 2:     # 2 - Balanced function (CNOT gate)\n",
    "        oracle.cx(0, 1)\n",
    "    elif case == 3:     # 3 - Balanced function (CNOT and X gate)\n",
    "        oracle.x(0)\n",
    "        oracle.cx(0, 1)\n",
    "        oracle.x(0)\n",
    "    elif case == 4:     # 4 - Constant function (X gate)\n",
    "        oracle.i(0)\n",
    "        oracle.x(1)\n",
    "    return oracle"
   ]
  },
  {
   "cell_type": "markdown",
   "metadata": {},
   "source": [
    "In the code above, we create a function called *create_oracle*. This functions purpose is for us to be able to test a circuit that has both a constant and a balanced function.\n",
    "\n",
    "- **Constant functions:** For a function to be constant, the output must be the same, regardless of the input. \n",
    "    - Case 1: No gates are applied, so the output is always ∣0⟩.\n",
    "    - Case 4: An X gate is applied unconditionally, which flips the qubit to ∣1⟩. This happens regardless of the input, so the output is always ∣1⟩.\n",
    "\n",
    "- **Balanced functions:** For a function to be balanced, it must provide an equal number of ∣0⟩ and ∣1⟩ outputs across all possible inputs.\n",
    "    - Case 2: A CNOT gate is applied, which flips the output only if the first qubit is ∣1⟩, which maintains a balanced structure.\n",
    "    - Case 3: A CNOT gate is used again, but an X gate inverts the output, which maintains the balanced structure.\n",
    "\n",
    "We then ensure the case number is valid, before initializing a circuit with 2 qubits. Finally, we have if/elif statements which check what the case is, and applies the relevant gate depending on the case number. The operations in the code above are designed to set our function to be constant or balanced, which we can then use to accurately test through Deutsch's algorithm.\n",
    "\n",
    "Now we can start creating the circuit itself, using the case function to define if it's consant or balanced. Let's start by defining the method, case number, and creating the function and initial qubits: "
   ]
  },
  {
   "cell_type": "code",
   "execution_count": 20,
   "metadata": {},
   "outputs": [],
   "source": [
    "# Define the method, takes 1 parameter, which is the case number we defined above\n",
    "def deutsch_algorithm(case):\n",
    "\n",
    "    #Create the oracle, which takes the case number parameter too\n",
    "    oracle = create_oracle(case)\n",
    "\n",
    "    # Create the Deutsch circuit, initializing it with 2 qubits and 1 classical bit\n",
    "    deutsch_circuit = QuantumCircuit(2, 1)"
   ]
  },
  {
   "cell_type": "markdown",
   "metadata": {},
   "source": [
    "We have now created the circuit with two qubits. Next, we prepare the initial state for the circuit. When qubits are created, they are initialized as |0⟩ by default [<a href=\"#13\">13</a>]. Therefore, we need to set the state of the second qubit to |1⟩ so we have the correct conditions for quantum interference to take place. This is essential for the functionality of Deutsch's algorithm, as it allows differentiation between constant and balanced functions. The state of the second qubit being ∣1⟩ enables phase kickback from the oracle, which allows us to determine whether the function is constant or balanced in a single query.\n",
    "\n",
    "Lets continue building the circuit by preparing the initial state:"
   ]
  },
  {
   "cell_type": "code",
   "execution_count": 36,
   "metadata": {},
   "outputs": [],
   "source": [
    "# Previous code\n",
    "def deutsch_algorithm(case):\n",
    "    oracle = create_oracle(case)\n",
    "    deutsch_circuit = QuantumCircuit(2, 1)\n",
    "#\n",
    "\n",
    "    # Prepare the initial state\n",
    "    deutsch_circuit.x(1)"
   ]
  },
  {
   "cell_type": "markdown",
   "metadata": {},
   "source": [
    "We have now applied an x gate to the second qubit, which will flip its state to ∣1⟩. Next, we will apply Hadamard gates to both of the qubits. The Hadamard gates will put the qubits into a superposition state, which we know is a linear combination of both states, ∣0⟩ and ∣1⟩, simultaneously. This will allow us to evaluate the function for both inputs with one query."
   ]
  },
  {
   "cell_type": "code",
   "execution_count": 29,
   "metadata": {},
   "outputs": [],
   "source": [
    "# Previous code\n",
    "def deutsch_algorithm(case):\n",
    "    oracle = create_oracle(case)\n",
    "    deutsch_circuit = QuantumCircuit(2, 1)\n",
    "\n",
    "    deutsch_circuit.x(1)\n",
    "#\n",
    "    \n",
    "    # Add Hadamard gate to both 0 and 1\n",
    "    deutsch_circuit.h([0, 1])"
   ]
  },
  {
   "cell_type": "markdown",
   "metadata": {},
   "source": [
    "Now that the two Hadamard gates have been applied, the qubits should be in a superposition state. The next step is to add our oracle, which is the key component in our application of Deutsch's algorithm, as it represents the function itself."
   ]
  },
  {
   "cell_type": "code",
   "execution_count": 28,
   "metadata": {},
   "outputs": [],
   "source": [
    "# Previous code\n",
    "def deutsch_algorithm(case):\n",
    "    oracle = create_oracle(case)\n",
    "    deutsch_circuit = QuantumCircuit(2, 1)\n",
    "\n",
    "    deutsch_circuit.x(1)\n",
    "    deutsch_circuit.h([0, 1])\n",
    "#\n",
    "    \n",
    "    # Use compose to add the oracle to the circuit, with inplace=True as a parameter.\n",
    "    deutsch_circuit.compose(oracle, inplace=True)\n"
   ]
  },
  {
   "cell_type": "markdown",
   "metadata": {},
   "source": [
    "The oracle has been added to the circuit through the use of compose. The \"inplace\" statement is set to True, which is used to modify the existing circuit with the oracle. If the statement was set to False, it would mean that it would create and return a new circuit, leaving the circuit that we have created unchanged. Next, we will complete the final step of the circuit creation by adding another Hadamard gate to the first qubit."
   ]
  },
  {
   "cell_type": "code",
   "execution_count": 46,
   "metadata": {},
   "outputs": [],
   "source": [
    "# Previous code\n",
    "def deutsch_algorithm(case):\n",
    "    oracle = create_oracle(case)\n",
    "    deutsch_circuit = QuantumCircuit(2, 1)\n",
    "\n",
    "    deutsch_circuit.x(1)\n",
    "    deutsch_circuit.h([0, 1])\n",
    "\n",
    "    deutsch_circuit.compose(oracle, inplace=True)\n",
    "#\n",
    "\n",
    "    # Add Hadamard gate to qubit 0\n",
    "    deutsch_circuit.h(0)\n",
    "    # Add measure to end of circuit\n",
    "    deutsch_circuit.measure(0, 0)\n",
    "    # Display the circuit through mpl library\n",
    "    display(deutsch_circuit.draw('mpl'))\n",
    "\n",
    "    return deutsch_circuit"
   ]
  },
  {
   "cell_type": "markdown",
   "metadata": {},
   "source": [
    "We have now added another Hadamard gate to the first qubit. We do this as it's essential to creating interference, which will lead us to a measureable outcome. When the qubit passes through the oracle, and the final Hadamard gate is applied to the qubit, it interferes with the state of the qubit again. The interference can be constructive, or destructive:\n",
    "\n",
    "- **Constructive Interference:** If the oracle is a constant function, it leaves the superposition state of the qubit relatively unchanged. The final Hadamard gate then causes constructive interference, where the paths push the qubit back to ∣0⟩.\n",
    "\n",
    "- **Destructive Interference:** If the oracle is a balanced function, it flips the qubits state. The final Hadamard gate then causes destructive interference, where the paths cancel out, leading the result more likely to be ∣1⟩.\n",
    "\n",
    "We also apply a measure to the circuit, and define the draw method through mpl before returning the circuit. Now, the circuit is functionally complete. We have passed the first qubit through the circuit, oracle and relevant gates, which effectively employs Deutsch's algorithm. "
   ]
  },
  {
   "cell_type": "markdown",
   "metadata": {},
   "source": [
    "<a id='deutsch-completedcircuit'></a>\n",
    "### The Completed Quantum Circuit\n",
    "Now that we have completed the functional implementation for the quantum circuit, we can visualize the output of the circuit. Below is the full code from the creation of the quantum circuit. While the code blocks through the building of the quantum circuit would work for visualizing, it's best to run the entire code as one execution, to ensure that there are no unforseen issues. This will also give us the opportunity to apply barriers in the circuit, which will give some visual clarity in the visualization of the circuits. I will remove the comments I have had in the code above for readability, but if a need arises to understand how the code is working, refer to the explanation or comments of the code during the building of the circuit."
   ]
  },
  {
   "cell_type": "code",
   "execution_count": 2,
   "metadata": {},
   "outputs": [],
   "source": [
    "from qiskit import QuantumCircuit\n",
    "\n",
    "# Create oracle function\n",
    "def create_oracle(case):\n",
    "    oracle = QuantumCircuit(2)\n",
    "    if case == 1:  \n",
    "        pass\n",
    "    elif case == 2:  \n",
    "        oracle.cx(0, 1)\n",
    "    elif case == 3:  \n",
    "        oracle.x(0)\n",
    "        oracle.cx(0, 1)\n",
    "        oracle.x(0)\n",
    "    elif case == 4:  \n",
    "        oracle.i(0)\n",
    "        oracle.x(1)\n",
    "    return oracle\n",
    "\n",
    "# Algorithm function\n",
    "def deutsch_algorithm(case_number):\n",
    "    \n",
    "    oracle = create_oracle(case_number)\n",
    "    deutsch_circuit = QuantumCircuit(2, 1)\n",
    "    \n",
    "    deutsch_circuit.x(1)\n",
    "    deutsch_circuit.barrier()\n",
    "    \n",
    "    deutsch_circuit.h([0, 1])\n",
    "    deutsch_circuit.barrier()\n",
    "\n",
    "    deutsch_circuit.compose(oracle, inplace=True)\n",
    "    deutsch_circuit.barrier()\n",
    " \n",
    "    deutsch_circuit.h(0)\n",
    "\n",
    "    deutsch_circuit.measure(0, 0)\n",
    "    display(deutsch_circuit.draw('mpl')) \n",
    "\n",
    "    return deutsch_circuit"
   ]
  },
  {
   "cell_type": "markdown",
   "metadata": {},
   "source": [
    "Above we have the completed code, including the oracle creation function and the algorithm function. To visualize a circuit, we go through the case number. The reason for having a seperate case number function is so that we can test for any desired case number by just changing a value. Here's how we can visualize the circuit for case number 1:"
   ]
  },
  {
   "cell_type": "code",
   "execution_count": 51,
   "metadata": {},
   "outputs": [
    {
     "data": {
      "image/png": "[encoded data removed]",
      "text/plain": [
       "<Figure size 705.35x284.278 with 1 Axes>"
      ]
     },
     "metadata": {},
     "output_type": "display_data"
    },
    {
     "data": {
      "text/plain": [
       "<qiskit.circuit.quantumcircuit.QuantumCircuit at 0x22033b33990>"
      ]
     },
     "execution_count": 51,
     "metadata": {},
     "output_type": "execute_result"
    }
   ],
   "source": [
    "# Define the case number\n",
    "case_number = 1\n",
    "# Pass the case number to the algorithm\n",
    "deutsch_algorithm(case_number)"
   ]
  },
  {
   "cell_type": "markdown",
   "metadata": {},
   "source": [
    "We can see above the visualization for case number 1, which we know is a constant function as defined previously in the project. We will verify that this is a constant version in the next section of the project, but before we do that, let's visualize a balanced function too, in this case, 3."
   ]
  },
  {
   "cell_type": "code",
   "execution_count": 52,
   "metadata": {},
   "outputs": [
    {
     "data": {
      "image/png": "[encoded data removed]",
      "text/plain": [
       "<Figure size 956.183x284.278 with 1 Axes>"
      ]
     },
     "metadata": {},
     "output_type": "display_data"
    },
    {
     "data": {
      "text/plain": [
       "<qiskit.circuit.quantumcircuit.QuantumCircuit at 0x22034f42a10>"
      ]
     },
     "execution_count": 52,
     "metadata": {},
     "output_type": "execute_result"
    }
   ],
   "source": [
    "# Define the case number\n",
    "case_number = 3\n",
    "# Pass the case number to the algorithm\n",
    "deutsch_algorithm(case_number)"
   ]
  },
  {
   "cell_type": "markdown",
   "metadata": {},
   "source": [
    "We can see in this example that the circuit has changed. It has more gates, as we defined in our *create_oracle* function. Next, we will move on to the simulation of the circuit to ensure that the circuit is functioning as expected, and test whether the oracle is a constant or balanced function."
   ]
  },
  {
   "cell_type": "markdown",
   "metadata": {},
   "source": [
    "<a id='deutsch-simulation'></a>\n",
    "## Running the simulation\n",
    "To ensure we have the results we expect, we can simulate the circuit through Qiskit Aer. Aer is a high performance quantum computer simulator, and is one of the elements of IBM's Qiskit. It provides us with an interface to run quantum circuits. Qiskit Aer includes three simulator backends: QasmSimulator, StatvectorSimulator and UnitarySimulator. For the case of Deutsch's algorithm, we will use QasmSimulator, as it is designed to mimic an actual device, and it's ideal for validating algorithms [<a href=\"#15\">15</a>].\n",
    "\n",
    "Throughout the project, we have mentioned the fact that there are four possible functions in relation to Deutsch's algorithm. In our building of the quantum circuit, we defined case numbers, which represent each of these functions. Case 1 and 4 are constant and case 2 and 3 are balanced. In the simulation of the circuit, we will simulate the result of each of these functions, to ensure that we have covered Deutsch's algorithm thoroughly. To use Aer, we need to ensure that it is installed with the following command:\n",
    "\n",
    "```\n",
    "pip install qiskit-aer\n",
    "```\n",
    "\n",
    "Once Aer has been installed, we can import it from Qiskit. We will also import execute, which is a fucntion that runs our quantum circuit on the QasmSimulator backend. Note that if the code is executed during the explanataion before the full code is provided, it generates a display of each of the four circuits, so I have commented out the circuit definition to avoid visual clutter."
   ]
  },
  {
   "cell_type": "code",
   "execution_count": null,
   "metadata": {},
   "outputs": [],
   "source": [
    "from qiskit import Aer, execute"
   ]
  },
  {
   "cell_type": "markdown",
   "metadata": {},
   "source": [
    "Next, we can begin creating our code for the simulaton. As mentioned, we want to test each of the four possible functions. To do this, we can use a for loop, and loop over the case numbers to test every possibility. We also will define our circuits that are being simulated, where we will call our previous *deutsch_algorithm* function for the logic of the circuit that we created prior. We will then define our simulator backend, through the aforementioned QasmSimulator."
   ]
  },
  {
   "cell_type": "code",
   "execution_count": 59,
   "metadata": {},
   "outputs": [],
   "source": [
    "# Loop over case numbers to test all scenarios\n",
    "for case_number in [1, 2, 3, 4]:\n",
    "    # Create circuit, call deutsch_algorithm with case number parameter\n",
    "    circuit = deutsch_algorithm(case_number)\n",
    "    # Define simulator, Aers qasm_simulator\n",
    "    simulator = Aer.get_backend('qasm_simulator')"
   ]
  },
  {
   "cell_type": "markdown",
   "metadata": {},
   "source": [
    "Now that we have our circuits called and our backend setup, we can finish the code to simulate the circuits outputs. To do this, we use Qiskits execute, which we already have imported. We will pass the circuit, simulator, and number of times we want the circuit to be simulated to the execute function. We will define the execution number through *shots* which we will initially set as 1. If needed, this value can be increased, but we only need a single execution, as the QasmSimulator provides us with an ideal, noise free environment. Typically, a real quantum environment can have a large number of factors that can impact performance, such as quantum decoherence. Decoherence is where a system loses it's quantum properties. If decoherence happens during the execution of a circuit, the qubits can lose their quantum properties, which leads to incorrect results. This is why some may opt to execute the simulation of a circuit many times, a typical number would be 1024, to ensure a large sample size. Since we have an optimal environment with no noise, we don't need to worry about this, and a single shot is sufficient [<a href=\"#13\">13</a>] [<a href=\"#16\">16</a>]."
   ]
  },
  {
   "cell_type": "code",
   "execution_count": 64,
   "metadata": {},
   "outputs": [],
   "source": [
    "# Previous code\n",
    "for case_number in [1, 2, 3, 4]:\n",
    "    # circuit = deutsch_algorithm(case_number)\n",
    "    simulator = Aer.get_backend('qasm_simulator')\n",
    "#\n",
    "    # Define job, which is equal to our execution of the circuit, simulator, with 1 execution of circuit\n",
    "    job = execute(circuit, simulator, shots=1)  \n",
    "    # Result is the result of the job\n",
    "    result = job.result()\n",
    "    # Counts defined as the measurement of outcomes from the result of the circuit simulation\n",
    "    counts = result.get_counts(circuit)"
   ]
  },
  {
   "cell_type": "markdown",
   "metadata": {},
   "source": [
    "Finally, we can add the print statement to display the information we want from the circuit simulation. We want to know the following:\n",
    "\n",
    "1. If the function is constant or balanced.\n",
    "2. The case number of each simulation.\n",
    "3. The amount of times the circuit has been simulated.\n",
    "\n",
    "We can add this information to our statement to ensure the results of our circuits are consistent and correct. We will also uncomment our circuit, as this is the complete implementation of the code for the simulation of the circuits. When this code is executed, a depiction of each of the circuits will be generated, and each circuit will have the information we defined in our print statement below it."
   ]
  },
  {
   "cell_type": "code",
   "execution_count": 17,
   "metadata": {},
   "outputs": [
    {
     "data": {
      "image/png": "[encoded data removed]",
      "text/plain": [
       "<Figure size 705.35x284.278 with 1 Axes>"
      ]
     },
     "metadata": {},
     "output_type": "display_data"
    },
    {
     "name": "stdout",
     "output_type": "stream",
     "text": [
      "Case number 1, Function is constant, Output: {'0': 1}\n"
     ]
    },
    {
     "data": {
      "image/png": "[encoded data removed]",
      "text/plain": [
       "<Figure size 788.961x284.278 with 1 Axes>"
      ]
     },
     "metadata": {},
     "output_type": "display_data"
    },
    {
     "name": "stdout",
     "output_type": "stream",
     "text": [
      "Case number 2, Function is balanced, Output: {'1': 1}\n"
     ]
    },
    {
     "data": {
      "image/png": "[encoded data removed]",
      "text/plain": [
       "<Figure size 956.183x284.278 with 1 Axes>"
      ]
     },
     "metadata": {},
     "output_type": "display_data"
    },
    {
     "name": "stdout",
     "output_type": "stream",
     "text": [
      "Case number 3, Function is balanced, Output: {'1': 1}\n"
     ]
    },
    {
     "name": "stderr",
     "output_type": "stream",
     "text": [
      "C:\\Users\\ownie\\AppData\\Local\\Temp\\ipykernel_12832\\3886112314.py:15: DeprecationWarning: The method ``qiskit.circuit.quantumcircuit.QuantumCircuit.i()`` is deprecated as of qiskit 0.45.0. It will be removed no earlier than 3 months after the release date. Use QuantumCircuit.id as direct replacement.\n",
      "  oracle.i(0)\n"
     ]
    },
    {
     "data": {
      "image/png": "[encoded data removed]",
      "text/plain": [
       "<Figure size 788.961x284.278 with 1 Axes>"
      ]
     },
     "metadata": {},
     "output_type": "display_data"
    },
    {
     "name": "stdout",
     "output_type": "stream",
     "text": [
      "Case number 4, Function is constant, Output: {'0': 1}\n"
     ]
    }
   ],
   "source": [
    "# For loop for iterating over the case numbers\n",
    "for case_number in [1, 2, 3, 4]:\n",
    "\n",
    "    # Define circuit, simulator\n",
    "    circuit = deutsch_algorithm(case_number)\n",
    "    simulator = Aer.get_backend('qasm_simulator')\n",
    "\n",
    "    # Define job, execute statement to execute the circuit on the simulator\n",
    "    job = execute(circuit, simulator, shots=1)  \n",
    "    result = job.result()\n",
    "    counts = result.get_counts(circuit)\n",
    "\n",
    "    # Print the relevant information from the simulation\n",
    "    outcome = \"constant\" if '0' in counts else \"balanced\"\n",
    "    print(f\"Case number {case_number}, Function is {outcome}, Output: {counts}\")"
   ]
  },
  {
   "cell_type": "markdown",
   "metadata": {},
   "source": [
    "Above, we can see all four of our functions as quantum circuits. Each of these circuits have been executed, and simulated. This ensures that the simulation was a success. For example, if we take case number 1, the output below the visualization is: \"Case number 1, Function is constant, Output: {'0': 1}\". This tells us that the function is constant, and the output was '0' once. This means that when the circuit was simulated for case number 1, the output of the firt qubit was 0. This is the result we are expecting, in line with how we defined the status of the case numbers prior in the project. We can confirm this by looking at the rest of the outputs for the other circuit simulations. We should expect the output of each of the simulations to be the following:\n",
    "\n",
    "- **Case number 1:** Constant function. Output for qubit 0 should be **0**\n",
    "- **Case number 2:** Balanced function. Output for qubut 0 should be **1**\n",
    "- **Case number 3:** Balanced function. Output for qubut 0 should be **1**\n",
    "- **Case number 4:** Constant function. Output for qubit 0 should be **0**\n",
    "\n",
    "If we look at the outputs of all of the simulations, we can see that the values are as we expect. Therefore, we have successfully executed and simulated Deutsch's algorithm. "
   ]
  },
  {
   "cell_type": "markdown",
   "metadata": {},
   "source": [
    "<a id='results'></a>\n",
    "# Results\n",
    "\n",
    "The goal of this project was to create a notebook exploring Deutsch's algorithm. We wanted to explain the problem, build a quantum circuit in Qiskit to implement the algorithm, and then demonstrate and simulate the circuit. In this section, we will briefly cover the results that we obtained through this process. We will visualize the results with pandas and matlplotlib, which will give us access to data visualization tools such as tables and bar charts.\n",
    "\n",
    "Our results for our simulation were as follows:\n",
    "\n",
    "- Case number **1**: \n",
    "    - Outcome: 0\n",
    "    - Constant function\n",
    "\n",
    "- Case number **2**: \n",
    "    - Outcome: 1\n",
    "    - Balanced function\n",
    "\n",
    "- Case number **3**: \n",
    "    - Outcome: 1\n",
    "    - Balanced function\n",
    "\n",
    "- Case number **4**: \n",
    "    - Outcome: 0\n",
    "    - Constant function\n",
    "\n",
    "We will now visualize this data with our visualization tools. We are creating two different visualizations, so to ensure consistency, we will create the simulated data in a dictionary. "
   ]
  },
  {
   "cell_type": "code",
   "execution_count": 38,
   "metadata": {},
   "outputs": [
    {
     "data": {
      "text/html": [
       "<style type=\"text/css\">\n",
       "#T_88093_row0_col0, #T_88093_row0_col1, #T_88093_row0_col2, #T_88093_row1_col0, #T_88093_row1_col1, #T_88093_row1_col2, #T_88093_row2_col0, #T_88093_row2_col1, #T_88093_row2_col2, #T_88093_row3_col0, #T_88093_row3_col1, #T_88093_row3_col2 {\n",
       "  text-align: center;\n",
       "  padding: 10px;\n",
       "}\n",
       "</style>\n",
       "<table id=\"T_88093\">\n",
       "  <thead>\n",
       "    <tr>\n",
       "      <th class=\"blank level0\" >&nbsp;</th>\n",
       "      <th id=\"T_88093_level0_col0\" class=\"col_heading level0 col0\" >Case Number</th>\n",
       "      <th id=\"T_88093_level0_col1\" class=\"col_heading level0 col1\" >0s</th>\n",
       "      <th id=\"T_88093_level0_col2\" class=\"col_heading level0 col2\" >1s</th>\n",
       "    </tr>\n",
       "  </thead>\n",
       "  <tbody>\n",
       "    <tr>\n",
       "      <th id=\"T_88093_level0_row0\" class=\"row_heading level0 row0\" >0</th>\n",
       "      <td id=\"T_88093_row0_col0\" class=\"data row0 col0\" >1</td>\n",
       "      <td id=\"T_88093_row0_col1\" class=\"data row0 col1\" >1</td>\n",
       "      <td id=\"T_88093_row0_col2\" class=\"data row0 col2\" >0</td>\n",
       "    </tr>\n",
       "    <tr>\n",
       "      <th id=\"T_88093_level0_row1\" class=\"row_heading level0 row1\" >1</th>\n",
       "      <td id=\"T_88093_row1_col0\" class=\"data row1 col0\" >2</td>\n",
       "      <td id=\"T_88093_row1_col1\" class=\"data row1 col1\" >0</td>\n",
       "      <td id=\"T_88093_row1_col2\" class=\"data row1 col2\" >1</td>\n",
       "    </tr>\n",
       "    <tr>\n",
       "      <th id=\"T_88093_level0_row2\" class=\"row_heading level0 row2\" >2</th>\n",
       "      <td id=\"T_88093_row2_col0\" class=\"data row2 col0\" >3</td>\n",
       "      <td id=\"T_88093_row2_col1\" class=\"data row2 col1\" >0</td>\n",
       "      <td id=\"T_88093_row2_col2\" class=\"data row2 col2\" >1</td>\n",
       "    </tr>\n",
       "    <tr>\n",
       "      <th id=\"T_88093_level0_row3\" class=\"row_heading level0 row3\" >3</th>\n",
       "      <td id=\"T_88093_row3_col0\" class=\"data row3 col0\" >4</td>\n",
       "      <td id=\"T_88093_row3_col1\" class=\"data row3 col1\" >1</td>\n",
       "      <td id=\"T_88093_row3_col2\" class=\"data row3 col2\" >0</td>\n",
       "    </tr>\n",
       "  </tbody>\n",
       "</table>\n"
      ],
      "text/plain": [
       "<pandas.io.formats.style.Styler at 0x19f226e9850>"
      ]
     },
     "metadata": {},
     "output_type": "display_data"
    },
    {
     "data": {
      "image/png": "[encoded data removed]",
      "text/plain": [
       "<Figure size 640x480 with 1 Axes>"
      ]
     },
     "metadata": {},
     "output_type": "display_data"
    }
   ],
   "source": [
    "# Ensure imports\n",
    "import pandas as pd\n",
    "import matplotlib.pyplot as plt\n",
    "\n",
    "# Create data in Python dictionary\n",
    "data = {\n",
    "    'Case Number': [1, 2, 3, 4],\n",
    "    '0s': [1, 0, 0, 1],  # '0' results for cases 1 and 4\n",
    "    '1s': [0, 1, 1, 0]   # '1' results for cases 2 and 3\n",
    "}\n",
    "\n",
    "# Create DataFrame from data\n",
    "df = pd.DataFrame(data)\n",
    "\n",
    "# Display the DataFrame as a table\n",
    "display(df.style.set_properties(**{'text-align': 'center', 'padding': '10px'}))\n",
    "\n",
    "# Plot the bar chart \n",
    "ax = df.plot(x='Case Number', y=['0s', '1s'], kind='bar', width=0.2)\n",
    "ax.set_ylabel('Counts')\n",
    "ax.set_title('Deutschs Algorithm Outcomes by Case Number')\n",
    "plt.show()\n"
   ]
  },
  {
   "cell_type": "markdown",
   "metadata": {},
   "source": [
    "In our visualizations above, we can see the data we simulated in a table and bar chart. The outcome for the simulation on each case number is as we expected. Deutsch's algorithm aims to prove quantum advantage. Determining whether a function is constant or balanced demonstrates this. As mentioned prior, when we measure the first qubit, a result of 0 indicates that the function is constant, while a result of 1 indicates that a function is balanced. In our visualization, we can see that the functions outcome is consistent with this hypothesis.   "
   ]
  },
  {
   "cell_type": "markdown",
   "metadata": {},
   "source": [
    "<a id='conclusion'></a>\n",
    "# Conclusion\n",
    "To conclude, we gave an explanation of the fundamental concepts of quantum computing, introduced qiskit and we have successfully implemented, executed and simulated Deutsch's algorithm. We have given a quantifiable example of Deutsch's algorithm in exeuction, demonstrating quantum advantage. Through our simulation, we were shown balanced and constant functions, which we used to demonstrate how quantum mechanics can be used to solve this problem with only a single query. \n",
    "\n",
    "Deutsch's algorithm laid the groundwork for the concept of quantum computing. Despite quantum computing being a subject of study for decades, we are still in the early stages of its potential. This project was an explorative study, but it exemplifies how quantum computing and mechanics may evolve. Solving a problem in a single query instead of two queries may sound like a very simple example, but the foundation is the most essential part of any complex structure. Deutsch's algorithm is a building block for more advanced quantum algorithms in the future. Without Deutsch's algorithm, the advancement of the area would not be possible. \n",
    "\n",
    "As we look to the future, it is exciting to think about what possibilities the advancement of quantum computing could unlock."
   ]
  },
  {
   "cell_type": "markdown",
   "metadata": {},
   "source": [
    "<a id=\"References\"></a>\n",
    "# References\n",
    "***\n",
    "\n",
    "<a id=\"1\"></a>[1] \"Quantum Computing.\" IBM. Available at: [https://www.ibm.com/topics/quantum-computing](https://www.ibm.com/topics/quantum-computing)\n",
    "\n",
    "<a id=\"2\"></a>[2] \"Simulating Physics with Computers.\" Richard P. Feynman. Available at: [https://s2.smu.edu/~mitch/class/5395/papers/feynman-quantum-1981.pdf](https://s2.smu.edu/~mitch/class/5395/papers/feynman-quantum-1981.pdf)\n",
    "\n",
    "<a id=\"3\"></a>[3] \"What is a Qubit?\" Microsoft Azure. Available at: [https://azure.microsoft.com/en-gb/resources/cloud-computing-dictionary/what-is-a-qubit](https://azure.microsoft.com/en-gb/resources/cloud-computing-dictionary/what-is-a-qubit)\n",
    "\n",
    "<a id=\"4\"></a>[4] \"Einstein's ‘spooky action at a distance' spotted in objects almost big enough to see\" Science.org. Available at: [https://www.science.org/content/article/einstein-s-spooky-action-distance-spotted-objects-almost-big-enough-see](https://www.science.org/content/article/einstein-s-spooky-action-distance-spotted-objects-almost-big-enough-see)\n",
    "\n",
    "<a id=\"5\"></a>[5] \"Quantum Entaglement and Information\" Stanford. Available at: [https://plato.stanford.edu/entries/qt-entangle/](https://plato.stanford.edu/entries/qt-entangle/)\n",
    "\n",
    "<a id=\"6\"></a>[6] \"Quantum Gates, Quantum Circuit and Quantum Computation\" Willaim & Mary (edu). Available at: [https://cklixx.people.wm.edu/teaching/QC2021/QC-chapter5.pdf](https://cklixx.people.wm.edu/teaching/QC2021/QC-chapter5.pdf)\n",
    "\n",
    "<a id=\"7\"></a>[7] \"Quantum Circuits\" IBM. Available at: [https://docs.quantum.ibm.com/api/qiskit/circuit](https://docs.quantum.ibm.com/api/qiskit/circuit)\n",
    "\n",
    "<a id=\"8\"></a>[8] \"Quantum query algorithms\" IBM. Available at: [https://learning.quantum.ibm.com/course/fundamentals-of-quantum-algorithms/quantum-query-algorithms](https://learning.quantum.ibm.com/course/fundamentals-of-quantum-algorithms/quantum-query-algorithms)\n",
    "\n",
    "<a id=\"9\"></a>[9] \"Deutsch's Algorithm\" Qubit.guide. Available at: [https://qubit.guide/10.4-deutschs-algorithm](https://qubit.guide/10.4-deutschs-algorithm) \n",
    "\n",
    "<a id=\"10\"></a>[10] \"The Deutsch Algorithm\" Full-Stack Quantum Computation. Available at: [https://fullstackquantumcomputation.tech/blog/deutsch-algorithm/](https://fullstackquantumcomputation.tech/blog/deutsch-algorithm/) \n",
    "\n",
    "<a id=\"11\"></a>[11] \"The Qiskit Elements\" IBM. Available at: [https://qiskit.org/documentation/stable/0.24/the_elements.html](https://qiskit.org/documentation/stable/0.24/the_elements.html) \n",
    "\n",
    "<a id=\"12\"></a>[12] \"Hello World\" IBM. Available at: [https://docs.quantum.ibm.com/start/hello-world](https://docs.quantum.ibm.com/start/hello-world) \n",
    "\n",
    "<a id=\"13\"></a>[13] \"Quantum Query Algorithms (Deutsch's algorithm/Implementation)\" IBM. Available at: [https://learning.quantum.ibm.com/course/fundamentals-of-quantum-algorithms/quantum-query-algorithms#implementation](https://learning.quantum.ibm.com/course/fundamentals-of-quantum-algorithms/quantum-query-algorithms#implementation) \n",
    "\n",
    "<a id=\"14\"></a>[14] \"Qubit basis states\" Quantum Inspire. Available at: [https://www.quantum-inspire.com/kbase/qubit-basis-states/](https://www.quantum-inspire.com/kbase/qubit-basis-states/) \n",
    "\n",
    "<a id=\"15\"></a>[15] \"Simulators\" Qiskit.org. Available at: [https://qiskit.org/documentation/stable/0.24/tutorials/simulators/1_aer_provider.html](https://qiskit.org/documentation/stable/0.24/tutorials/simulators/1_aer_provider.html)\n",
    "\n",
    "<a id=\"16\"></a>[16] \"The Role of Decoherence in Quantum Mechanics\" Stanford Encylopedia of Philosophy. Available at: [https://plato.stanford.edu/entries/qm-decoherence/](https://plato.stanford.edu/entries/qm-decoherence/)\n",
    "\n",
    "https://plato.stanford.edu/entries/qm-decoherence/\n"
   ]
  },
  {
   "cell_type": "markdown",
   "metadata": {},
   "source": []
  }
 ],
 "metadata": {
  "kernelspec": {
   "display_name": "Python 3 (ipykernel)",
   "language": "python",
   "name": "python3"
  },
  "language_info": {
   "codemirror_mode": {
    "name": "ipython",
    "version": 3
   },
   "file_extension": ".py",
   "mimetype": "text/x-python",
   "name": "python",
   "nbconvert_exporter": "python",
   "pygments_lexer": "ipython3",
   "version": "3.11.5"
  }
 },
 "nbformat": 4,
 "nbformat_minor": 4
}
