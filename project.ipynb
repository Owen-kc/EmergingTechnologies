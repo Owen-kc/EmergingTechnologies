{
 "cells": [
  {
   "cell_type": "markdown",
   "metadata": {},
   "source": [
    "# Deutsch's Algorithm\n",
    "\n",
    "In this notebook, we will be exploring Deutsch's Algorithm. Before we tackle the algorithm, we must first have an understanding of some fundamental concepts in Quantum Computing. \n",
    "\n",
    "# Table of Contents\n",
    "1. [Introduction to Quantum Computing](#Introduction)\n",
    "    1. [Historical Context](#History)\n",
    "    2. [Fundamentals of Quantum Computing](#Fundamentals)\n",
    "        1. [Qubits](#Qubits)\n",
    "        2. [Quantum Superposition](#Superposition)\n",
    "        3. [Quantum Entaglement](#Entaglement)\n",
    "        4. [Quantum Gates & Circuits](#Gates)\n",
    "2. [Deutsch's Algorithm](#Deutschs-Algorithm)\n",
    "     1. [Problem Statement](#Problem)\n",
    "     2. [Algorithm Overview](#Overview)\n",
    "3. [Implementation of Deutsch's Algorithm](#Implementation)\n",
    "    1. [Introduction to Qiskit](#Qiskit)\n",
    "        1. [Installing Qiskit](#QInstall)\n",
    "        2. [Fundamental Concepts in Qiskit](#QFundamentals)\n",
    "        3. [Visualization in Qiskit](#QVisualization)\n",
    "    2. [The Quantum Circuit](#Circuit)\n",
    "    3. [The Oracle](#Oracle)\n",
    "4. [Algorithm Simulation](#Simulation)\n",
    "5. [Results](#Results)\n",
    "6. [Conclusion](#Conclusion)\n",
    "7. [References](#References)"
   ]
  },
  {
   "cell_type": "markdown",
   "metadata": {},
   "source": [
    "<a id=\"Introduction\"></a>\n",
    "# Introduction to Quantum Computing\n",
    "\n",
    "At its core, quantum computing is a rapidly-emerging technology that harnesses the laws of quantum mechanics to solve problems too complex for classical computers [<a href=\"#1\">1</a>]. Quantum computers use quantum mechanics concepts such as quantum interference, superposition and entaglement to perform calculations. The main difference between a quantum computer and a classical computer is the way in which they use bits. A classical computer uses bits that are either 0 or 1, whereas a quantum computer uses quantum bits, better known as qubits, which can exist in multiple states simultaneously. In concept, this allows quantum computers to process a significant amount of information at once in comparison to a classical computer. At the moment, quantum computers are unable to solve a meaningful task more efficiently than a classical computer, as quantum computers today have a relatively small number of qubits. More qubits are required to be able to reach the potential to solve complex problems efficiently. Quantum computers have difficulty maintaining qubit stability, which restricts what tasks can be performed without high error rates. Unfortunately it's not as simple as adding more qubits, as scaling up the number of qubits while maintaining consistency and coherence can be costly, and technically challenging. While quantum computing has been a concept for several decades, these issues are what classifies quantum computing as an emerging technology. It's clear there is enormous potential, but there needs to be some more research and computational advances before we can say quantum computers could take the place of classical computers.\n",
    "\n",
    "<a id=\"History\"></a>\n",
    "## Historical Context\n",
    "\n",
    "The theoretical foundation for quantum computing was largely laid in the 1980's by Richard Feynman. In a paper published by Feynman in 1982, *Simulating Physics with Computers* [<a href=\"#2\">2</a>], he stated the difficulty that classical computers face when attempting to simulate quantum systems. In this paper, he proposes that a computer which uses the concepts of quantum mechanics would be much more suited to this task, and highlighted how quantum mechanics could potentially provide new ways of storing and processing information in comparison to classical computers. This paper, among other contributions from Feynman, laid the foundation of quantum computing and conceptualized aspects that are still influential to this day.\n",
    "\n",
    "David Deustch, the creator of the algorithm that this project focuses on, extended Feynman's idea of the quantum computer by forming the quantum Turing machine, which serves as a foundational model for quantum computing. It demonstrated how a quantum computer could surpass classical computers. Deustch then went on to develop the aptly named Deustch's Algorithm which was one of the first algorithms ever designed for a quantum computer.\n",
    "\n",
    "<a id=\"Fundamentals\"></a>\n",
    "## Fundamentals of Quantum Computing\n",
    "\n",
    "### Qubits\n",
    "Qubits are essentially the building blocks of quantum computing. In classical computers, traditional bits represent a basic piece of information and can exist as either 0 or 1. In quantum computers, qubits are used instead. These bits use a quantum mechanics concept called superposition which allows the qubit to exist as 0, 1, or a linear combination of both states at the same time. Qubits are typically represented visually as |0⟩ or |1⟩. Qubits are fragile, and the disruption of an environment containing qubits can easily damage the system and cause decoherence [<a href=\"#3\">3</a>]. Qubits can be implemented in a variety of ways, such as trapped ions, artifical or real atoms, or quasiparticles.\n",
    "\n"
   ]
  },
  {
   "cell_type": "markdown",
   "metadata": {},
   "source": [
    "<a id=\"References\"></a>\n",
    "# References\n",
    "\n",
    "<a id=\"1\"></a>[1] \"Quantum Computing.\" IBM. Available at: [https://www.ibm.com/topics/quantum-computing](https://www.ibm.com/topics/quantum-computing)\n",
    "\n",
    "<a id=\"2\"></a>[2] \"Simulating Physics with Computers.\" Richard P. Feynman. Available at: [https://s2.smu.edu/~mitch/class/5395/papers/feynman-quantum-1981.pdf](https://s2.smu.edu/~mitch/class/5395/papers/feynman-quantum-1981.pdf)\n",
    "\n",
    "<a id=\"3\"></a>[3] \"What is a Qubit?\" Microsoft Azure. Available at: [https://azure.microsoft.com/en-gb/resources/cloud-computing-dictionary/what-is-a-qubit](https://azure.microsoft.com/en-gb/resources/cloud-computing-dictionary/what-is-a-qubit)"
   ]
  },
  {
   "cell_type": "markdown",
   "metadata": {},
   "source": []
  }
 ],
 "metadata": {
  "kernelspec": {
   "display_name": "base",
   "language": "python",
   "name": "python3"
  },
  "language_info": {
   "codemirror_mode": {
    "name": "ipython",
    "version": 3
   },
   "file_extension": ".py",
   "mimetype": "text/x-python",
   "name": "python",
   "nbconvert_exporter": "python",
   "pygments_lexer": "ipython3",
   "version": "3.11.5"
  }
 },
 "nbformat": 4,
 "nbformat_minor": 2
}
