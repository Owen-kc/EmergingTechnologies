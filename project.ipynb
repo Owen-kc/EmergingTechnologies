{
 "cells": [
  {
   "cell_type": "markdown",
   "metadata": {},
   "source": [
    "# Deutsch's Algorithm\n",
    "***\n",
    "In this notebook, we will be exploring Deutsch's Algorithm. Before we tackle the algorithm, we must first have an understanding of some fundamental concepts in Quantum Computing. \n",
    "\n",
    "# Table of Contents\n",
    "1. [Introduction to Quantum Computing](#Introduction)\n",
    "    1. [Historical Context](#History)\n",
    "    2. [Fundamentals of Quantum Computing](#Fundamentals)\n",
    "        1. [Qubits](#Qubits)\n",
    "        2. [Quantum Superposition](#Superposition)\n",
    "        3. [Quantum Entaglement](#Entaglement)\n",
    "        4. [Quantum Gates & Circuits](#Gates)\n",
    "2. [Deutsch's Algorithm](#Deutschs-Algorithm)\n",
    "     1. [Deutsch's Problem](#Problem)\n",
    "     2. [The Oracle](#Oracle)\n",
    "     3. [The Quantum Circuit](#Circuit)\n",
    "3. [Implementation of Deutsch's Algorithm](#Implementation)\n",
    "    1. [Introduction to Qiskit](#Qiskit)\n",
    "        1. [Installing Qiskit](#QInstall)\n",
    "        2. [Fundamental Concepts in Qiskit](#QFundamentals)\n",
    "        3. [Visualization in Qiskit](#QVisualization)\n",
    "    2. [Deutsch's Algorithm in Qiskit](#QAlgorithm)\n",
    "4. [Algorithm Simulation](#Simulation)\n",
    "5. [Results](#Results)\n",
    "6. [Conclusion](#Conclusion)\n",
    "7. [References](#References)"
   ]
  },
  {
   "cell_type": "markdown",
   "metadata": {},
   "source": [
    "<a id=\"Introduction\"></a>\n",
    "# Introduction to Quantum Computing\n",
    "***\n",
    "\n",
    "At its core, quantum computing is a rapidly-emerging technology that harnesses the laws of quantum mechanics to solve problems too complex for classical computers [<a href=\"#1\">1</a>]. Quantum computers use quantum mechanics concepts such as quantum interference, superposition and entaglement to perform calculations. The main difference between a quantum computer and a classical computer is the way in which they use bits. A classical computer uses bits that are either 0 or 1, whereas a quantum computer uses quantum bits, better known as qubits, which can exist in multiple states simultaneously. In concept, this allows quantum computers to process a significant amount of information at once in comparison to a classical computer. At the moment, quantum computers are unable to solve a meaningful task more efficiently than a classical computer, as quantum computers today have a relatively small number of qubits. More qubits are required to be able to reach the potential to solve complex problems efficiently. Quantum computers have difficulty maintaining qubit stability, which restricts what tasks can be performed without high error rates. Unfortunately it's not as simple as adding more qubits, as scaling up the number of qubits while maintaining consistency and coherence can be costly, and technically challenging. While quantum computing has been a concept for several decades, these issues are what classifies quantum computing as an emerging technology. It's clear there is enormous potential, but there needs to be some more research and computational advances before we can say quantum computers could take the place of classical computers.\n",
    "\n",
    "<a id=\"History\"></a>\n",
    "## Historical Context\n",
    "\n",
    "The theoretical foundation for quantum computing was largely laid in the 1980's by Richard Feynman. In a paper published by Feynman in 1982, *Simulating Physics with Computers* [<a href=\"#2\">2</a>], he stated the difficulty that classical computers face when attempting to simulate quantum systems. In this paper, he proposes that a computer which uses the concepts of quantum mechanics would be much more suited to this task, and highlighted how quantum mechanics could potentially provide new ways of storing and processing information in comparison to classical computers. This paper, among other contributions from Feynman, laid the foundation of quantum computing and conceptualized aspects that are still influential to this day.\n",
    "\n",
    "David Deustch, the creator of the algorithm that this project focuses on, extended Feynman's idea of the quantum computer by forming the quantum Turing machine, which serves as a foundational model for quantum computing. It demonstrated how a quantum computer could surpass classical computers. Deustch then went on to develop the aptly named Deustch's Algorithm which was one of the first algorithms ever designed for a quantum computer.\n",
    "\n",
    "<a id=\"Fundamentals\"></a>\n",
    "## Fundamentals of Quantum Computing\n",
    "\n",
    "### Qubits\n",
    "Qubits are essentially the building blocks of quantum computing. In classical computers, traditional bits represent a basic piece of information and can exist as either 0 or 1. In quantum computers, qubits are used instead. These bits use a quantum mechanics concept called superposition which allows the qubit to exist as 0, 1, or a linear combination of both states at the same time. Qubits are typically represented visually as |0⟩ or |1⟩. Qubits are fragile, and the disruption of an environment containing qubits can easily damage the system and cause decoherence [<a href=\"#3\">3</a>]. Qubits can be implemented in a variety of ways, such as trapped ions, artifical or real atoms, or quasiparticles.\n",
    "\n",
    "### Quantum Superposition\n",
    "Funadamentally, quantum superposition is a principle in quantum mechancis where a quantum system can exist simultaneously in multiple states. A qubit can exist as both 0 and 1 at the same time, which is an example of quantum superposition. In the context of qubits, information being able to represent two values at the same time allows for a vast amount of information to be computed in parallel. \n",
    "\n",
    "### Quantum Entaglement\n",
    "Quantum entaglement is a complex phenomenon in quantum computing. Famously, Einstein referred to quantum entaglement as \"spooky action at a distance\" [<a href=\"#4\">4</a>]. With modern computational advances, we can now better understand entaglement. Quantum entaglement is essentially the exchange of quantum information between two particles at a distance. When in an entagled state, the quantum state of a particle cannot be described independently of another state, regardless of the particles distance. This means that the state of the two particles are inherently influenced by eachother [<a href=\"#5\">5</a>]. \n",
    "\n",
    "### Quantum Gates & Circuits\n",
    "Quantum gates are essential to quantum computing and mechanics. Quantum gates operate on qubits, manipulating their states. As we know, qubits can exist in a superimposed state due to superposition and entaglement, which means that quantum gates offer more potential operations compared to classical logic gates. A fundamental quantum gate is the identity gate, which operates on a single qubit. The identity gate is the simplest quantum gate poissible. The identity gate is defined as follows [<a href=\"#8\">8</a>]:\n",
    "\n",
    "$$ I |0\\rangle = |0\\rangle $$\n",
    "$$ I |1\\rangle = |1\\rangle $$\n",
    "\n",
    "We can convert the identity gate into a matrix form, which looks like this:\n",
    "\n",
    "$$\n",
    "I = \\begin{pmatrix} 1 & 0 \\\\ 0 & 1 \\end{pmatrix}\n",
    "$$\n",
    "\n",
    "If we pass a qubit through the gate, its state should remain unchanged. Let us pass through a qubit |0⟩ to see how the gate functions.\n",
    "\n",
    "$$\n",
    "I |0\\rangle = \\begin{pmatrix} 1 & 0 \\\\ 0 & 1 \\end{pmatrix} \\begin{pmatrix} 1 \\\\ 0 \\end{pmatrix} = \\begin{pmatrix} 1 \\\\ 0 \\end{pmatrix}\n",
    "$$\n",
    "\n",
    "As we can see, the value of the qubit remains unchanged after it passes through the gate. The gate functions the same for a qubit value of |1⟩ or a qubit in superposition, leaving the state of the qubit identical to what it was before the gate was applied [<a href=\"#6\">6</a>]. This is why the identity gate is the simplest quantum gate possible, as it essentially acts as a \"do nothing\" operation. \n",
    "\n",
    "Quantum circuits represent an ordered sequence of quantum gates in a specific arrangment in order to achieve a quantum computation [<a href=\"#7\">7</a>]. Quantum circuits operate with qubits, as most quantum computing concepts do. "
   ]
  },
  {
   "cell_type": "markdown",
   "metadata": {},
   "source": [
    "<a id=\"Deutschs-Algorithm\"></a>\n",
    "# Deutsch's Algorithm\n",
    "***\n",
    "\n",
    "Now that we understand the fundamental concepts of quantum computing, we can begin to cover the titular Deutsch's Algorithm. The algorithm was created by David Deutsch, who is a renowned British physicist. Deutsch is a pioneer in quantum computing, laying the foundation not only through Deutsch's algorithim but also through his ideas such as the quantum turing machine and his published books, *The Fabric of Reality* and *The Begginning of Infinity* which cover quantum computing. Deutsch's algorithm was the first algorithm that demonstrated quantum advantage, where a quantum computer could solve a problem faster than a classical computer. Deutsch's algorithm determines if a given quantum oracle is constant or balanced. It uses quantum mechanics such as superposition to do this in one operation, which is more efficient than a classical computer.\n",
    "\n",
    "## Deutsch's Problem\n",
    "Deutsch's algorithm solves Deutsch's problem, which is defined as follows [<a href=\"#8\">8</a>]:\n",
    "\n",
    "**Input:** a function $ f:{0,1}→{0,1} $\n",
    "\n",
    "**Output:** 0 if $ f $ is constant, 1 if $ f $ is balanced\n",
    "\n",
    "Deutsch's problem at its core is a simple function, it takes a single bit as input and outputs a single bit. There are four potential one-bit to one-bit functions in the context of Deutsch's algorithm:\n",
    "\n",
    "1. **f1 (Constant)**: Outputs 0 for both inputs: $ f(0) = 0, f(1) = 0 $.\n",
    "2. **f2 (Balanced)**: Outputs 0 for input 0 and 1 for input 1: $ f(0) = 0, f(1) = 1 $.\n",
    "3. **f3 (Balanced)**: Outputs 1 for input 0 and 0 for input 1: $ f(0) = 1, f(1) = 0 $.\n",
    "4. **f4 (Constant)**: Outputs 1 for both inputs: $ f(0) = 1, f(1) = 1 $.\n",
    "\n",
    "\n",
    "In Deutsch's problem, these functions are represented as oracles. The goal is to determine if the function is balanced or constant. With a classical query, it must query both bits, as it can only test one input at a time, and it needs to check both inputs to determine if the function is constant or balanced. However, if we use Deutsch's algorithm, we can leverage quantum mechanics through superposition. We know that superposition allows a qubit to exist in multiple states simultaneously, which means that we can test the problem with a single query. This is why Deutsch's algorithm showcases quantum advantage.\n",
    "\n",
    "## The Oracle\n",
    "Throughout the project, we have briefly mentioned oracles, but in this section we will go in depth into oracles and the function they carry out in the context of Deutsch's algorithm. We know that the general goal of the Deutsch's algorithm is to determine whether a function is balanced or constant. The oracle, usually notated as $Uf$ plays a pivotal role in Deutsch's algorithm, as it represents the actual function that we want to determine the status of. Oracles can also be reffered to as \"black box\" operations. This means that we can only see the inputs and the outputs of the function, without knowing the specific internal workings. \n",
    "\n",
    "In a quantum circuit, qubits are passed through Hadamard gates, which changes their state to a superposition, before they interact with the oracle. When the qubits interact with the oracle, they are encoded with the nature of the function, and depending on the nature of the function, are altered or left unaltered, which is critical to determining whether a function is balanced or constant. For a constant function, the oracle leaves the qubits unchanged. For a balanced function, the oracle introduces change to the qubit [<a href=\"#9\">9</a>]. The transformation of these states is the core of the algorithm, as it is what allows quantum mechanics to complete the operation in one query, in contrast to the classical computers two. To demonstrate this, we can utilize the quantum circuit for Deutsch's algorithm below.\n",
    "\n",
    "## The Quantum Circuit\n",
    "Now that we know what purpose of Deutsch's algorithm and the role of oracles, we can go more in depth into how the algorithm works before we implement it in qiskit. Below is the quantum circuit that describes Deutsch's algorithm [<a href=\"#8\">8</a>]:\n",
    "\n",
    "![Deutsch-algorithm-circuit](./images/deutsch-circuit.png \"Deutsch's algorithm circuit\")\n",
    "\n",
    "1. First, we start with two qubits, ∣0⟩ and ∣1⟩. \n",
    "2. Then, we mix the states of the qubits using the Hadamard gates, which creates an environment for superposition.\n",
    "3. $ Uf $ represents the oracle, which is the function.\n",
    "4. Then, we mix the first qubit again with the Hadamard gate.\n",
    "5. Finally, we measure the first qubit.\n",
    "\n",
    "We know that there are two states a function can be classified as: **Constant** and **Balanced**. Since we are measuring the first qubit, which is ∣0⟩, we know that the function is constant if the result is 0 and balanced if the result is 1. This is because if the result is 0, nothing has changed our qubits from their original state, and if the result is 1, it means that the process transformed our qubits from its original state. The reason the are considered balanced if they change is because a balanced function causes a unique transformation in the quantum state [<a href=\"#10\">10</a>]. "
   ]
  },
  {
   "cell_type": "markdown",
   "metadata": {},
   "source": [
    "## Implementation of Deutsch's Algorithm\n",
    "***\n",
    "Now that we understand how Deutsch's algorithm works, we can demonstrate the algorithm in Qiskit. Qiskit is an open source quantum computing software from IBM. We will first briefly go over what Qiskit is before installing it.\n",
    "\n",
    "### Introduction to Qiskit\n",
    "Qiskit is an open source tool developed for quantum computing, developed by IBM. It's designed to write quantum computing algorithm, running them on quantum machines through IBM Q, and then simulating them on classical computers. There are several different elements of Qiskit:\n",
    "- Terra: Foundation for quantum circuits, qubit management, circuit creation and gate operations\n",
    "- Aer: Provides a simulation environment to test and validate quantum circuits on classical computers.\n",
    "- Ignis: Mainly used for error correction, essential for achieving reliable results.\n",
    "- Aqua: Hosts the libraries of quantim algorithms and applications.\n",
    "\n",
    "When simulating Deutsch's algorithm, we will mainly use Terra and Aer for building the quantum circuit and simulating it. We don't particularly require the use of Ignis or Aqua, as they aren't relevant to Deutsch's Algorithm.\n",
    "\n",
    "Here's how they interact with eachother [<a href=\"#11\">11</a>]:\n",
    "\n",
    "![Qiskit-overview](./images/qiskit-overview.png \"Overview of Qiskit foundation\")\n",
    "#### Installing Qiskit\n",
    "First, we need to ensure Qiskit is installed. If Anaconda or Miniconda was used to install, Qiskit should be installed:"
   ]
  },
  {
   "cell_type": "code",
   "execution_count": 7,
   "metadata": {},
   "outputs": [
    {
     "name": "stdout",
     "output_type": "stream",
     "text": [
      "Requirement already satisfied: qiskit in c:\\users\\ownie\\miniconda3\\lib\\site-packages (0.45.1)\n",
      "Collecting matplotlib\n",
      "  Downloading matplotlib-3.8.2-cp311-cp311-win_amd64.whl.metadata (5.9 kB)\n",
      "Requirement already satisfied: qiskit-terra==0.45.1 in c:\\users\\ownie\\miniconda3\\lib\\site-packages (from qiskit) (0.45.1)\n",
      "Requirement already satisfied: rustworkx>=0.13.0 in c:\\users\\ownie\\miniconda3\\lib\\site-packages (from qiskit-terra==0.45.1->qiskit) (0.13.2)\n",
      "Requirement already satisfied: numpy<2,>=1.17 in c:\\users\\ownie\\miniconda3\\lib\\site-packages (from qiskit-terra==0.45.1->qiskit) (1.26.2)\n",
      "Requirement already satisfied: ply>=3.10 in c:\\users\\ownie\\miniconda3\\lib\\site-packages (from qiskit-terra==0.45.1->qiskit) (3.11)\n",
      "Requirement already satisfied: psutil>=5 in c:\\users\\ownie\\miniconda3\\lib\\site-packages (from qiskit-terra==0.45.1->qiskit) (5.9.5)\n",
      "Requirement already satisfied: scipy>=1.5 in c:\\users\\ownie\\miniconda3\\lib\\site-packages (from qiskit-terra==0.45.1->qiskit) (1.11.4)\n",
      "Requirement already satisfied: sympy>=1.3 in c:\\users\\ownie\\miniconda3\\lib\\site-packages (from qiskit-terra==0.45.1->qiskit) (1.12)\n",
      "Requirement already satisfied: dill>=0.3 in c:\\users\\ownie\\miniconda3\\lib\\site-packages (from qiskit-terra==0.45.1->qiskit) (0.3.7)\n",
      "Requirement already satisfied: python-dateutil>=2.8.0 in c:\\users\\ownie\\miniconda3\\lib\\site-packages (from qiskit-terra==0.45.1->qiskit) (2.8.2)\n",
      "Requirement already satisfied: stevedore>=3.0.0 in c:\\users\\ownie\\miniconda3\\lib\\site-packages (from qiskit-terra==0.45.1->qiskit) (5.1.0)\n",
      "Collecting contourpy>=1.0.1 (from matplotlib)\n",
      "  Downloading contourpy-1.2.0-cp311-cp311-win_amd64.whl.metadata (5.8 kB)\n",
      "Collecting cycler>=0.10 (from matplotlib)\n",
      "  Downloading cycler-0.12.1-py3-none-any.whl.metadata (3.8 kB)\n",
      "Collecting fonttools>=4.22.0 (from matplotlib)\n",
      "  Downloading fonttools-4.46.0-cp311-cp311-win_amd64.whl.metadata (159 kB)\n",
      "     ---------------------------------------- 0.0/159.4 kB ? eta -:--:--\n",
      "     ------- ------------------------------- 30.7/159.4 kB 1.3 MB/s eta 0:00:01\n",
      "     ------------------------------------ - 153.6/159.4 kB 3.1 MB/s eta 0:00:01\n",
      "     -------------------------------------- 159.4/159.4 kB 1.9 MB/s eta 0:00:00\n",
      "Collecting kiwisolver>=1.3.1 (from matplotlib)\n",
      "  Downloading kiwisolver-1.4.5-cp311-cp311-win_amd64.whl.metadata (6.5 kB)\n",
      "Requirement already satisfied: packaging>=20.0 in c:\\users\\ownie\\miniconda3\\lib\\site-packages (from matplotlib) (23.1)\n",
      "Collecting pillow>=8 (from matplotlib)\n",
      "  Downloading Pillow-10.1.0-cp311-cp311-win_amd64.whl.metadata (9.6 kB)\n",
      "Collecting pyparsing>=2.3.1 (from matplotlib)\n",
      "  Downloading pyparsing-3.1.1-py3-none-any.whl.metadata (5.1 kB)\n",
      "Requirement already satisfied: six>=1.5 in c:\\users\\ownie\\miniconda3\\lib\\site-packages (from python-dateutil>=2.8.0->qiskit-terra==0.45.1->qiskit) (1.16.0)\n",
      "Requirement already satisfied: pbr!=2.1.0,>=2.0.0 in c:\\users\\ownie\\miniconda3\\lib\\site-packages (from stevedore>=3.0.0->qiskit-terra==0.45.1->qiskit) (6.0.0)\n",
      "Requirement already satisfied: mpmath>=0.19 in c:\\users\\ownie\\miniconda3\\lib\\site-packages (from sympy>=1.3->qiskit-terra==0.45.1->qiskit) (1.3.0)\n",
      "Downloading matplotlib-3.8.2-cp311-cp311-win_amd64.whl (7.6 MB)\n",
      "   ---------------------------------------- 0.0/7.6 MB ? eta -:--:--\n",
      "   -- ------------------------------------- 0.5/7.6 MB 11.4 MB/s eta 0:00:01\n",
      "   ------ --------------------------------- 1.2/7.6 MB 12.9 MB/s eta 0:00:01\n",
      "   ---------- ----------------------------- 2.0/7.6 MB 14.2 MB/s eta 0:00:01\n",
      "   --------------- ------------------------ 3.0/7.6 MB 16.0 MB/s eta 0:00:01\n",
      "   --------------------- ------------------ 4.1/7.6 MB 17.7 MB/s eta 0:00:01\n",
      "   ----------------------------- ---------- 5.7/7.6 MB 20.1 MB/s eta 0:00:01\n",
      "   ---------------------------------------  7.5/7.6 MB 22.8 MB/s eta 0:00:01\n",
      "   ---------------------------------------  7.6/7.6 MB 23.3 MB/s eta 0:00:01\n",
      "   ---------------------------------------- 7.6/7.6 MB 19.6 MB/s eta 0:00:00\n",
      "Downloading contourpy-1.2.0-cp311-cp311-win_amd64.whl (187 kB)\n",
      "   ---------------------------------------- 0.0/187.6 kB ? eta -:--:--\n",
      "   --------------------------------------- 187.6/187.6 kB 11.1 MB/s eta 0:00:00\n",
      "Downloading cycler-0.12.1-py3-none-any.whl (8.3 kB)\n",
      "Downloading fonttools-4.46.0-cp311-cp311-win_amd64.whl (2.2 MB)\n",
      "   ---------------------------------------- 0.0/2.2 MB ? eta -:--:--\n",
      "   ------------------------------------- -- 2.0/2.2 MB 65.4 MB/s eta 0:00:01\n",
      "   ---------------------------------------  2.2/2.2 MB 69.7 MB/s eta 0:00:01\n",
      "   ---------------------------------------  2.2/2.2 MB 69.7 MB/s eta 0:00:01\n",
      "   ---------------------------------------  2.2/2.2 MB 69.7 MB/s eta 0:00:01\n",
      "   ---------------------------------------- 2.2/2.2 MB 11.6 MB/s eta 0:00:00\n",
      "Downloading kiwisolver-1.4.5-cp311-cp311-win_amd64.whl (56 kB)\n",
      "   ---------------------------------------- 0.0/56.1 kB ? eta -:--:--\n",
      "   ------------------------------------ --- 51.2/56.1 kB ? eta -:--:--\n",
      "   ---------------------------------------- 56.1/56.1 kB 976.1 kB/s eta 0:00:00\n",
      "Downloading Pillow-10.1.0-cp311-cp311-win_amd64.whl (2.6 MB)\n",
      "   ---------------------------------------- 0.0/2.6 MB ? eta -:--:--\n",
      "   ---------------------------------------  2.5/2.6 MB 81.9 MB/s eta 0:00:01\n",
      "   ---------------------------------------  2.6/2.6 MB 55.1 MB/s eta 0:00:01\n",
      "   ---------------------------------------- 2.6/2.6 MB 23.8 MB/s eta 0:00:00\n",
      "Downloading pyparsing-3.1.1-py3-none-any.whl (103 kB)\n",
      "   ---------------------------------------- 0.0/103.1 kB ? eta -:--:--\n",
      "   ---------------------------------------- 103.1/103.1 kB 3.0 MB/s eta 0:00:00\n",
      "Installing collected packages: pyparsing, pillow, kiwisolver, fonttools, cycler, contourpy, matplotlib\n",
      "Successfully installed contourpy-1.2.0 cycler-0.12.1 fonttools-4.46.0 kiwisolver-1.4.5 matplotlib-3.8.2 pillow-10.1.0 pyparsing-3.1.1\n"
     ]
    }
   ],
   "source": [
    "!pip install qiskit "
   ]
  },
  {
   "cell_type": "markdown",
   "metadata": {},
   "source": [
    "Then, let's check the version to ensure we have the latest version:"
   ]
  },
  {
   "cell_type": "code",
   "execution_count": 5,
   "metadata": {},
   "outputs": [
    {
     "name": "stdout",
     "output_type": "stream",
     "text": [
      "0.45.1\n"
     ]
    }
   ],
   "source": [
    "import qiskit\n",
    "print(qiskit.__version__)"
   ]
  },
  {
   "cell_type": "markdown",
   "metadata": {},
   "source": [
    "We can see that the latest version of Qiskit is intsalled."
   ]
  },
  {
   "cell_type": "markdown",
   "metadata": {},
   "source": [
    "#### Fundamental Concepts in Qiskit\n",
    "Before we delve into creating Deutsch's algorithm in Qiskit, we first will take a simple example, so we have an understanding of how exactly Qiskit works. This example is referred to as the \"Hello World\" example by IBM, which essentially means that it is the simplest example possible. In a quantum program, quantum circuits are the format to represent quantum instructions, and operators represent the observables to be measured. The example below creates a circuit that produces a Bell state, which is a two-qubit entagled state  [<a href=\"#12\">12</a>]. We will first install matplotlib to visualize the circuit, and then go ahead with the example:"
   ]
  },
  {
   "cell_type": "code",
   "execution_count": 16,
   "metadata": {},
   "outputs": [
    {
     "name": "stdout",
     "output_type": "stream",
     "text": [
      "Requirement already satisfied: matplotlib in c:\\users\\ownie\\miniconda3\\lib\\site-packages (3.8.2)\n",
      "Requirement already satisfied: contourpy>=1.0.1 in c:\\users\\ownie\\miniconda3\\lib\\site-packages (from matplotlib) (1.2.0)\n",
      "Requirement already satisfied: cycler>=0.10 in c:\\users\\ownie\\miniconda3\\lib\\site-packages (from matplotlib) (0.12.1)\n",
      "Requirement already satisfied: fonttools>=4.22.0 in c:\\users\\ownie\\miniconda3\\lib\\site-packages (from matplotlib) (4.46.0)\n",
      "Requirement already satisfied: kiwisolver>=1.3.1 in c:\\users\\ownie\\miniconda3\\lib\\site-packages (from matplotlib) (1.4.5)\n",
      "Requirement already satisfied: numpy<2,>=1.21 in c:\\users\\ownie\\miniconda3\\lib\\site-packages (from matplotlib) (1.26.2)\n",
      "Requirement already satisfied: packaging>=20.0 in c:\\users\\ownie\\miniconda3\\lib\\site-packages (from matplotlib) (23.1)\n",
      "Requirement already satisfied: pillow>=8 in c:\\users\\ownie\\miniconda3\\lib\\site-packages (from matplotlib) (10.1.0)\n",
      "Requirement already satisfied: pyparsing>=2.3.1 in c:\\users\\ownie\\miniconda3\\lib\\site-packages (from matplotlib) (3.1.1)\n",
      "Requirement already satisfied: python-dateutil>=2.7 in c:\\users\\ownie\\miniconda3\\lib\\site-packages (from matplotlib) (2.8.2)\n",
      "Requirement already satisfied: six>=1.5 in c:\\users\\ownie\\miniconda3\\lib\\site-packages (from python-dateutil>=2.7->matplotlib) (1.16.0)\n"
     ]
    }
   ],
   "source": [
    "!pip install --user matplotlib"
   ]
  },
  {
   "cell_type": "code",
   "execution_count": 17,
   "metadata": {},
   "outputs": [
    {
     "ename": "MissingOptionalLibraryError",
     "evalue": "\"The 'matplotlib' library is required to use 'MatplotlibDrawer'. You can install it with 'pip install matplotlib'.\"",
     "output_type": "error",
     "traceback": [
      "\u001b[1;31m---------------------------------------------------------------------------\u001b[0m",
      "\u001b[1;31mMissingOptionalLibraryError\u001b[0m               Traceback (most recent call last)",
      "Cell \u001b[1;32mIn[17], line 13\u001b[0m\n\u001b[0;32m     10\u001b[0m qc\u001b[38;5;241m.\u001b[39mcx(\u001b[38;5;241m0\u001b[39m, \u001b[38;5;241m1\u001b[39m)\n\u001b[0;32m     12\u001b[0m \u001b[38;5;66;03m# Return a drawing of the circuit using MatPlotLib (\"mpl\").\u001b[39;00m\n\u001b[1;32m---> 13\u001b[0m \u001b[43mqc\u001b[49m\u001b[38;5;241;43m.\u001b[39;49m\u001b[43mdraw\u001b[49m\u001b[43m(\u001b[49m\u001b[38;5;124;43m\"\u001b[39;49m\u001b[38;5;124;43mmpl\u001b[39;49m\u001b[38;5;124;43m\"\u001b[39;49m\u001b[43m)\u001b[49m\n",
      "File \u001b[1;32mc:\\Users\\ownie\\miniconda3\\Lib\\site-packages\\qiskit\\circuit\\quantumcircuit.py:1807\u001b[0m, in \u001b[0;36mQuantumCircuit.draw\u001b[1;34m(self, output, scale, filename, style, interactive, plot_barriers, reverse_bits, justify, vertical_compression, idle_wires, with_layout, fold, ax, initial_state, cregbundle, wire_order, expr_len)\u001b[0m\n\u001b[0;32m   1804\u001b[0m \u001b[38;5;66;03m# pylint: disable=cyclic-import\u001b[39;00m\n\u001b[0;32m   1805\u001b[0m \u001b[38;5;28;01mfrom\u001b[39;00m \u001b[38;5;21;01mqiskit\u001b[39;00m\u001b[38;5;21;01m.\u001b[39;00m\u001b[38;5;21;01mvisualization\u001b[39;00m \u001b[38;5;28;01mimport\u001b[39;00m circuit_drawer\n\u001b[1;32m-> 1807\u001b[0m \u001b[38;5;28;01mreturn\u001b[39;00m \u001b[43mcircuit_drawer\u001b[49m\u001b[43m(\u001b[49m\n\u001b[0;32m   1808\u001b[0m \u001b[43m    \u001b[49m\u001b[38;5;28;43mself\u001b[39;49m\u001b[43m,\u001b[49m\n\u001b[0;32m   1809\u001b[0m \u001b[43m    \u001b[49m\u001b[43mscale\u001b[49m\u001b[38;5;241;43m=\u001b[39;49m\u001b[43mscale\u001b[49m\u001b[43m,\u001b[49m\n\u001b[0;32m   1810\u001b[0m \u001b[43m    \u001b[49m\u001b[43mfilename\u001b[49m\u001b[38;5;241;43m=\u001b[39;49m\u001b[43mfilename\u001b[49m\u001b[43m,\u001b[49m\n\u001b[0;32m   1811\u001b[0m \u001b[43m    \u001b[49m\u001b[43mstyle\u001b[49m\u001b[38;5;241;43m=\u001b[39;49m\u001b[43mstyle\u001b[49m\u001b[43m,\u001b[49m\n\u001b[0;32m   1812\u001b[0m \u001b[43m    \u001b[49m\u001b[43moutput\u001b[49m\u001b[38;5;241;43m=\u001b[39;49m\u001b[43moutput\u001b[49m\u001b[43m,\u001b[49m\n\u001b[0;32m   1813\u001b[0m \u001b[43m    \u001b[49m\u001b[43minteractive\u001b[49m\u001b[38;5;241;43m=\u001b[39;49m\u001b[43minteractive\u001b[49m\u001b[43m,\u001b[49m\n\u001b[0;32m   1814\u001b[0m \u001b[43m    \u001b[49m\u001b[43mplot_barriers\u001b[49m\u001b[38;5;241;43m=\u001b[39;49m\u001b[43mplot_barriers\u001b[49m\u001b[43m,\u001b[49m\n\u001b[0;32m   1815\u001b[0m \u001b[43m    \u001b[49m\u001b[43mreverse_bits\u001b[49m\u001b[38;5;241;43m=\u001b[39;49m\u001b[43mreverse_bits\u001b[49m\u001b[43m,\u001b[49m\n\u001b[0;32m   1816\u001b[0m \u001b[43m    \u001b[49m\u001b[43mjustify\u001b[49m\u001b[38;5;241;43m=\u001b[39;49m\u001b[43mjustify\u001b[49m\u001b[43m,\u001b[49m\n\u001b[0;32m   1817\u001b[0m \u001b[43m    \u001b[49m\u001b[43mvertical_compression\u001b[49m\u001b[38;5;241;43m=\u001b[39;49m\u001b[43mvertical_compression\u001b[49m\u001b[43m,\u001b[49m\n\u001b[0;32m   1818\u001b[0m \u001b[43m    \u001b[49m\u001b[43midle_wires\u001b[49m\u001b[38;5;241;43m=\u001b[39;49m\u001b[43midle_wires\u001b[49m\u001b[43m,\u001b[49m\n\u001b[0;32m   1819\u001b[0m \u001b[43m    \u001b[49m\u001b[43mwith_layout\u001b[49m\u001b[38;5;241;43m=\u001b[39;49m\u001b[43mwith_layout\u001b[49m\u001b[43m,\u001b[49m\n\u001b[0;32m   1820\u001b[0m \u001b[43m    \u001b[49m\u001b[43mfold\u001b[49m\u001b[38;5;241;43m=\u001b[39;49m\u001b[43mfold\u001b[49m\u001b[43m,\u001b[49m\n\u001b[0;32m   1821\u001b[0m \u001b[43m    \u001b[49m\u001b[43max\u001b[49m\u001b[38;5;241;43m=\u001b[39;49m\u001b[43max\u001b[49m\u001b[43m,\u001b[49m\n\u001b[0;32m   1822\u001b[0m \u001b[43m    \u001b[49m\u001b[43minitial_state\u001b[49m\u001b[38;5;241;43m=\u001b[39;49m\u001b[43minitial_state\u001b[49m\u001b[43m,\u001b[49m\n\u001b[0;32m   1823\u001b[0m \u001b[43m    \u001b[49m\u001b[43mcregbundle\u001b[49m\u001b[38;5;241;43m=\u001b[39;49m\u001b[43mcregbundle\u001b[49m\u001b[43m,\u001b[49m\n\u001b[0;32m   1824\u001b[0m \u001b[43m    \u001b[49m\u001b[43mwire_order\u001b[49m\u001b[38;5;241;43m=\u001b[39;49m\u001b[43mwire_order\u001b[49m\u001b[43m,\u001b[49m\n\u001b[0;32m   1825\u001b[0m \u001b[43m    \u001b[49m\u001b[43mexpr_len\u001b[49m\u001b[38;5;241;43m=\u001b[39;49m\u001b[43mexpr_len\u001b[49m\u001b[43m,\u001b[49m\n\u001b[0;32m   1826\u001b[0m \u001b[43m\u001b[49m\u001b[43m)\u001b[49m\n",
      "File \u001b[1;32mc:\\Users\\ownie\\miniconda3\\Lib\\site-packages\\qiskit\\visualization\\circuit\\circuit_visualization.py:321\u001b[0m, in \u001b[0;36mcircuit_drawer\u001b[1;34m(circuit, scale, filename, style, output, interactive, plot_barriers, reverse_bits, justify, vertical_compression, idle_wires, with_layout, fold, ax, initial_state, cregbundle, wire_order, expr_len)\u001b[0m\n\u001b[0;32m    306\u001b[0m     \u001b[38;5;28;01mreturn\u001b[39;00m _generate_latex_source(\n\u001b[0;32m    307\u001b[0m         circuit,\n\u001b[0;32m    308\u001b[0m         filename\u001b[38;5;241m=\u001b[39mfilename,\n\u001b[1;32m   (...)\u001b[0m\n\u001b[0;32m    318\u001b[0m         wire_order\u001b[38;5;241m=\u001b[39mcomplete_wire_order,\n\u001b[0;32m    319\u001b[0m     )\n\u001b[0;32m    320\u001b[0m \u001b[38;5;28;01melif\u001b[39;00m output \u001b[38;5;241m==\u001b[39m \u001b[38;5;124m\"\u001b[39m\u001b[38;5;124mmpl\u001b[39m\u001b[38;5;124m\"\u001b[39m:\n\u001b[1;32m--> 321\u001b[0m     image \u001b[38;5;241m=\u001b[39m \u001b[43m_matplotlib_circuit_drawer\u001b[49m\u001b[43m(\u001b[49m\n\u001b[0;32m    322\u001b[0m \u001b[43m        \u001b[49m\u001b[43mcircuit\u001b[49m\u001b[43m,\u001b[49m\n\u001b[0;32m    323\u001b[0m \u001b[43m        \u001b[49m\u001b[43mscale\u001b[49m\u001b[38;5;241;43m=\u001b[39;49m\u001b[43mscale\u001b[49m\u001b[43m,\u001b[49m\n\u001b[0;32m    324\u001b[0m \u001b[43m        \u001b[49m\u001b[43mfilename\u001b[49m\u001b[38;5;241;43m=\u001b[39;49m\u001b[43mfilename\u001b[49m\u001b[43m,\u001b[49m\n\u001b[0;32m    325\u001b[0m \u001b[43m        \u001b[49m\u001b[43mstyle\u001b[49m\u001b[38;5;241;43m=\u001b[39;49m\u001b[43mstyle\u001b[49m\u001b[43m,\u001b[49m\n\u001b[0;32m    326\u001b[0m \u001b[43m        \u001b[49m\u001b[43mplot_barriers\u001b[49m\u001b[38;5;241;43m=\u001b[39;49m\u001b[43mplot_barriers\u001b[49m\u001b[43m,\u001b[49m\n\u001b[0;32m    327\u001b[0m \u001b[43m        \u001b[49m\u001b[43mreverse_bits\u001b[49m\u001b[38;5;241;43m=\u001b[39;49m\u001b[43mreverse_bits\u001b[49m\u001b[43m,\u001b[49m\n\u001b[0;32m    328\u001b[0m \u001b[43m        \u001b[49m\u001b[43mjustify\u001b[49m\u001b[38;5;241;43m=\u001b[39;49m\u001b[43mjustify\u001b[49m\u001b[43m,\u001b[49m\n\u001b[0;32m    329\u001b[0m \u001b[43m        \u001b[49m\u001b[43midle_wires\u001b[49m\u001b[38;5;241;43m=\u001b[39;49m\u001b[43midle_wires\u001b[49m\u001b[43m,\u001b[49m\n\u001b[0;32m    330\u001b[0m \u001b[43m        \u001b[49m\u001b[43mwith_layout\u001b[49m\u001b[38;5;241;43m=\u001b[39;49m\u001b[43mwith_layout\u001b[49m\u001b[43m,\u001b[49m\n\u001b[0;32m    331\u001b[0m \u001b[43m        \u001b[49m\u001b[43mfold\u001b[49m\u001b[38;5;241;43m=\u001b[39;49m\u001b[43mfold\u001b[49m\u001b[43m,\u001b[49m\n\u001b[0;32m    332\u001b[0m \u001b[43m        \u001b[49m\u001b[43max\u001b[49m\u001b[38;5;241;43m=\u001b[39;49m\u001b[43max\u001b[49m\u001b[43m,\u001b[49m\n\u001b[0;32m    333\u001b[0m \u001b[43m        \u001b[49m\u001b[43minitial_state\u001b[49m\u001b[38;5;241;43m=\u001b[39;49m\u001b[43minitial_state\u001b[49m\u001b[43m,\u001b[49m\n\u001b[0;32m    334\u001b[0m \u001b[43m        \u001b[49m\u001b[43mcregbundle\u001b[49m\u001b[38;5;241;43m=\u001b[39;49m\u001b[43mcregbundle\u001b[49m\u001b[43m,\u001b[49m\n\u001b[0;32m    335\u001b[0m \u001b[43m        \u001b[49m\u001b[43mwire_order\u001b[49m\u001b[38;5;241;43m=\u001b[39;49m\u001b[43mcomplete_wire_order\u001b[49m\u001b[43m,\u001b[49m\n\u001b[0;32m    336\u001b[0m \u001b[43m        \u001b[49m\u001b[43mexpr_len\u001b[49m\u001b[38;5;241;43m=\u001b[39;49m\u001b[43mexpr_len\u001b[49m\u001b[43m,\u001b[49m\n\u001b[0;32m    337\u001b[0m \u001b[43m    \u001b[49m\u001b[43m)\u001b[49m\n\u001b[0;32m    338\u001b[0m \u001b[38;5;28;01melse\u001b[39;00m:\n\u001b[0;32m    339\u001b[0m     \u001b[38;5;28;01mraise\u001b[39;00m VisualizationError(\n\u001b[0;32m    340\u001b[0m         \u001b[38;5;124m\"\u001b[39m\u001b[38;5;124mInvalid output type \u001b[39m\u001b[38;5;132;01m%s\u001b[39;00m\u001b[38;5;124m selected. The only valid choices \u001b[39m\u001b[38;5;124m\"\u001b[39m\n\u001b[0;32m    341\u001b[0m         \u001b[38;5;124m\"\u001b[39m\u001b[38;5;124mare text, latex, latex_source, and mpl\u001b[39m\u001b[38;5;124m\"\u001b[39m \u001b[38;5;241m%\u001b[39m output\n\u001b[0;32m    342\u001b[0m     )\n",
      "File \u001b[1;32mc:\\Users\\ownie\\miniconda3\\Lib\\site-packages\\qiskit\\visualization\\circuit\\circuit_visualization.py:701\u001b[0m, in \u001b[0;36m_matplotlib_circuit_drawer\u001b[1;34m(circuit, scale, filename, style, plot_barriers, reverse_bits, justify, idle_wires, with_layout, fold, ax, initial_state, cregbundle, wire_order, expr_len)\u001b[0m\n\u001b[0;32m    698\u001b[0m \u001b[38;5;28;01mif\u001b[39;00m fold \u001b[38;5;129;01mis\u001b[39;00m \u001b[38;5;28;01mNone\u001b[39;00m:\n\u001b[0;32m    699\u001b[0m     fold \u001b[38;5;241m=\u001b[39m \u001b[38;5;241m25\u001b[39m\n\u001b[1;32m--> 701\u001b[0m qcd \u001b[38;5;241m=\u001b[39m \u001b[43m_matplotlib\u001b[49m\u001b[38;5;241;43m.\u001b[39;49m\u001b[43mMatplotlibDrawer\u001b[49m\u001b[43m(\u001b[49m\n\u001b[0;32m    702\u001b[0m \u001b[43m    \u001b[49m\u001b[43mqubits\u001b[49m\u001b[43m,\u001b[49m\n\u001b[0;32m    703\u001b[0m \u001b[43m    \u001b[49m\u001b[43mclbits\u001b[49m\u001b[43m,\u001b[49m\n\u001b[0;32m    704\u001b[0m \u001b[43m    \u001b[49m\u001b[43mnodes\u001b[49m\u001b[43m,\u001b[49m\n\u001b[0;32m    705\u001b[0m \u001b[43m    \u001b[49m\u001b[43mcircuit\u001b[49m\u001b[43m,\u001b[49m\n\u001b[0;32m    706\u001b[0m \u001b[43m    \u001b[49m\u001b[43mscale\u001b[49m\u001b[38;5;241;43m=\u001b[39;49m\u001b[43mscale\u001b[49m\u001b[43m,\u001b[49m\n\u001b[0;32m    707\u001b[0m \u001b[43m    \u001b[49m\u001b[43mstyle\u001b[49m\u001b[38;5;241;43m=\u001b[39;49m\u001b[43mstyle\u001b[49m\u001b[43m,\u001b[49m\n\u001b[0;32m    708\u001b[0m \u001b[43m    \u001b[49m\u001b[43mreverse_bits\u001b[49m\u001b[38;5;241;43m=\u001b[39;49m\u001b[43mreverse_bits\u001b[49m\u001b[43m,\u001b[49m\n\u001b[0;32m    709\u001b[0m \u001b[43m    \u001b[49m\u001b[43mplot_barriers\u001b[49m\u001b[38;5;241;43m=\u001b[39;49m\u001b[43mplot_barriers\u001b[49m\u001b[43m,\u001b[49m\n\u001b[0;32m    710\u001b[0m \u001b[43m    \u001b[49m\u001b[43mfold\u001b[49m\u001b[38;5;241;43m=\u001b[39;49m\u001b[43mfold\u001b[49m\u001b[43m,\u001b[49m\n\u001b[0;32m    711\u001b[0m \u001b[43m    \u001b[49m\u001b[43max\u001b[49m\u001b[38;5;241;43m=\u001b[39;49m\u001b[43max\u001b[49m\u001b[43m,\u001b[49m\n\u001b[0;32m    712\u001b[0m \u001b[43m    \u001b[49m\u001b[43minitial_state\u001b[49m\u001b[38;5;241;43m=\u001b[39;49m\u001b[43minitial_state\u001b[49m\u001b[43m,\u001b[49m\n\u001b[0;32m    713\u001b[0m \u001b[43m    \u001b[49m\u001b[43mcregbundle\u001b[49m\u001b[38;5;241;43m=\u001b[39;49m\u001b[43mcregbundle\u001b[49m\u001b[43m,\u001b[49m\n\u001b[0;32m    714\u001b[0m \u001b[43m    \u001b[49m\u001b[43mwith_layout\u001b[49m\u001b[38;5;241;43m=\u001b[39;49m\u001b[43mwith_layout\u001b[49m\u001b[43m,\u001b[49m\n\u001b[0;32m    715\u001b[0m \u001b[43m    \u001b[49m\u001b[43mexpr_len\u001b[49m\u001b[38;5;241;43m=\u001b[39;49m\u001b[43mexpr_len\u001b[49m\u001b[43m,\u001b[49m\n\u001b[0;32m    716\u001b[0m \u001b[43m\u001b[49m\u001b[43m)\u001b[49m\n\u001b[0;32m    717\u001b[0m \u001b[38;5;28;01mreturn\u001b[39;00m qcd\u001b[38;5;241m.\u001b[39mdraw(filename)\n",
      "File \u001b[1;32mc:\\Users\\ownie\\miniconda3\\Lib\\site-packages\\qiskit\\utils\\classtools.py:111\u001b[0m, in \u001b[0;36m_WrappedMethod.__get__.<locals>.out\u001b[1;34m(*args, **kwargs)\u001b[0m\n\u001b[0;32m    108\u001b[0m \u001b[38;5;129m@functools\u001b[39m\u001b[38;5;241m.\u001b[39mwraps(method)\n\u001b[0;32m    109\u001b[0m \u001b[38;5;28;01mdef\u001b[39;00m \u001b[38;5;21mout\u001b[39m(\u001b[38;5;241m*\u001b[39margs, \u001b[38;5;241m*\u001b[39m\u001b[38;5;241m*\u001b[39mkwargs):\n\u001b[0;32m    110\u001b[0m     \u001b[38;5;28;01mfor\u001b[39;00m callback \u001b[38;5;129;01min\u001b[39;00m \u001b[38;5;28mself\u001b[39m\u001b[38;5;241m.\u001b[39m_before:\n\u001b[1;32m--> 111\u001b[0m         \u001b[43mcallback\u001b[49m\u001b[38;5;241;43m.\u001b[39;49m\u001b[38;5;21;43m__get__\u001b[39;49m\u001b[43m(\u001b[49m\u001b[43mobj\u001b[49m\u001b[43m,\u001b[49m\u001b[43m \u001b[49m\u001b[43mobjtype\u001b[49m\u001b[43m)\u001b[49m\u001b[43m(\u001b[49m\u001b[38;5;241;43m*\u001b[39;49m\u001b[43margs\u001b[49m\u001b[43m,\u001b[49m\u001b[43m \u001b[49m\u001b[38;5;241;43m*\u001b[39;49m\u001b[38;5;241;43m*\u001b[39;49m\u001b[43mkwargs\u001b[49m\u001b[43m)\u001b[49m\n\u001b[0;32m    112\u001b[0m     retval \u001b[38;5;241m=\u001b[39m method(\u001b[38;5;241m*\u001b[39margs, \u001b[38;5;241m*\u001b[39m\u001b[38;5;241m*\u001b[39mkwargs)\n\u001b[0;32m    113\u001b[0m     \u001b[38;5;28;01mfor\u001b[39;00m callback \u001b[38;5;129;01min\u001b[39;00m \u001b[38;5;28mself\u001b[39m\u001b[38;5;241m.\u001b[39m_after:\n",
      "File \u001b[1;32mc:\\Users\\ownie\\miniconda3\\Lib\\site-packages\\qiskit\\utils\\lazy_tester.py:39\u001b[0m, in \u001b[0;36m_RequireNow.__call__\u001b[1;34m(self, *_args, **_kwargs)\u001b[0m\n\u001b[0;32m     38\u001b[0m \u001b[38;5;28;01mdef\u001b[39;00m \u001b[38;5;21m__call__\u001b[39m(\u001b[38;5;28mself\u001b[39m, \u001b[38;5;241m*\u001b[39m_args, \u001b[38;5;241m*\u001b[39m\u001b[38;5;241m*\u001b[39m_kwargs):\n\u001b[1;32m---> 39\u001b[0m     \u001b[38;5;28;43mself\u001b[39;49m\u001b[38;5;241;43m.\u001b[39;49m\u001b[43m_tester\u001b[49m\u001b[38;5;241;43m.\u001b[39;49m\u001b[43mrequire_now\u001b[49m\u001b[43m(\u001b[49m\u001b[38;5;28;43mself\u001b[39;49m\u001b[38;5;241;43m.\u001b[39;49m\u001b[43m_feature\u001b[49m\u001b[43m)\u001b[49m\n",
      "File \u001b[1;32mc:\\Users\\ownie\\miniconda3\\Lib\\site-packages\\qiskit\\utils\\lazy_tester.py:223\u001b[0m, in \u001b[0;36mLazyDependencyManager.require_now\u001b[1;34m(self, feature)\u001b[0m\n\u001b[0;32m    221\u001b[0m \u001b[38;5;28;01mif\u001b[39;00m \u001b[38;5;28mself\u001b[39m:\n\u001b[0;32m    222\u001b[0m     \u001b[38;5;28;01mreturn\u001b[39;00m\n\u001b[1;32m--> 223\u001b[0m \u001b[38;5;28;01mraise\u001b[39;00m MissingOptionalLibraryError(\n\u001b[0;32m    224\u001b[0m     libname\u001b[38;5;241m=\u001b[39m\u001b[38;5;28mself\u001b[39m\u001b[38;5;241m.\u001b[39m_name, name\u001b[38;5;241m=\u001b[39mfeature, pip_install\u001b[38;5;241m=\u001b[39m\u001b[38;5;28mself\u001b[39m\u001b[38;5;241m.\u001b[39m_install, msg\u001b[38;5;241m=\u001b[39m\u001b[38;5;28mself\u001b[39m\u001b[38;5;241m.\u001b[39m_msg\n\u001b[0;32m    225\u001b[0m )\n",
      "\u001b[1;31mMissingOptionalLibraryError\u001b[0m: \"The 'matplotlib' library is required to use 'MatplotlibDrawer'. You can install it with 'pip install matplotlib'.\""
     ]
    }
   ],
   "source": [
    "from qiskit import QuantumCircuit\n",
    " \n",
    "#Create a new circuit with two classical bits and two qubits\n",
    "qc = QuantumCircuit(2)\n",
    " \n",
    "# Add a Hadamard gate to qubit 0\n",
    "qc.h(0)\n",
    " \n",
    "# Perform a controlled-X gate on qubit 1\n",
    "qc.cx(0, 1)\n",
    " \n",
    "# Return a drawing of the circuit using MatPlotLib (\"mpl\").\n",
    "#qc.draw(\"mpl\") #update this with mpl"
   ]
  },
  {
   "cell_type": "markdown",
   "metadata": {},
   "source": [
    "<a id=\"References\"></a>\n",
    "# References\n",
    "***\n",
    "\n",
    "<a id=\"1\"></a>[1] \"Quantum Computing.\" IBM. Available at: [https://www.ibm.com/topics/quantum-computing](https://www.ibm.com/topics/quantum-computing)\n",
    "\n",
    "<a id=\"2\"></a>[2] \"Simulating Physics with Computers.\" Richard P. Feynman. Available at: [https://s2.smu.edu/~mitch/class/5395/papers/feynman-quantum-1981.pdf](https://s2.smu.edu/~mitch/class/5395/papers/feynman-quantum-1981.pdf)\n",
    "\n",
    "<a id=\"3\"></a>[3] \"What is a Qubit?\" Microsoft Azure. Available at: [https://azure.microsoft.com/en-gb/resources/cloud-computing-dictionary/what-is-a-qubit](https://azure.microsoft.com/en-gb/resources/cloud-computing-dictionary/what-is-a-qubit)\n",
    "\n",
    "<a id=\"4\"></a>[4] \"Einstein's ‘spooky action at a distance' spotted in objects almost big enough to see\" Science.org. Available at: [https://www.science.org/content/article/einstein-s-spooky-action-distance-spotted-objects-almost-big-enough-see](https://www.science.org/content/article/einstein-s-spooky-action-distance-spotted-objects-almost-big-enough-see)\n",
    "\n",
    "<a id=\"5\"></a>[5] \"Quantum Entaglement and Information\" Stanford. Available at: [https://plato.stanford.edu/entries/qt-entangle/](https://plato.stanford.edu/entries/qt-entangle/)\n",
    "\n",
    "<a id=\"6\"></a>[6] \"Quantum Gates, Quantum Circuit and Quantum Computation\" Willaim & Mary (edu). Available at: [https://cklixx.people.wm.edu/teaching/QC2021/QC-chapter5.pdf](https://cklixx.people.wm.edu/teaching/QC2021/QC-chapter5.pdf)\n",
    "\n",
    "<a id=\"7\"></a>[7] \"Quantum Circuits\" IBM. Available at: [https://docs.quantum.ibm.com/api/qiskit/circuit](https://docs.quantum.ibm.com/api/qiskit/circuit)\n",
    "\n",
    "<a id=\"8\"></a>[8] \"Quantum query algorithms\" IBM. Available at: [https://learning.quantum.ibm.com/course/fundamentals-of-quantum-algorithms/quantum-query-algorithms](https://learning.quantum.ibm.com/course/fundamentals-of-quantum-algorithms/quantum-query-algorithms)\n",
    "\n",
    "<a id=\"9\"></a>[9] \"Deutsch's Algorithm\" Qubit.guide. Available at: [https://qubit.guide/10.4-deutschs-algorithm](https://qubit.guide/10.4-deutschs-algorithm) \n",
    "\n",
    "<a id=\"10\"></a>[10] \"The Deutsch Algorithm\" Full-Stack Quantum Computation. Available at: [https://fullstackquantumcomputation.tech/blog/deutsch-algorithm/](https://fullstackquantumcomputation.tech/blog/deutsch-algorithm/) \n",
    "\n",
    "<a id=\"11\"></a>[11] \"The Qiskit Elements\" IBM. Available at: [https://qiskit.org/documentation/stable/0.24/the_elements.html](https://qiskit.org/documentation/stable/0.24/the_elements.html) \n",
    "\n",
    "<a id=\"12\"></a>[12] \"Hello World\" IBM. Available at: [https://docs.quantum.ibm.com/start/hello-world](https://docs.quantum.ibm.com/start/hello-world) \n",
    "\n",
    "\n"
   ]
  },
  {
   "cell_type": "markdown",
   "metadata": {},
   "source": []
  }
 ],
 "metadata": {
  "kernelspec": {
   "display_name": "base",
   "language": "python",
   "name": "python3"
  },
  "language_info": {
   "codemirror_mode": {
    "name": "ipython",
    "version": 3
   },
   "file_extension": ".py",
   "mimetype": "text/x-python",
   "name": "python",
   "nbconvert_exporter": "python",
   "pygments_lexer": "ipython3",
   "version": "3.11.5"
  }
 },
 "nbformat": 4,
 "nbformat_minor": 2
}
