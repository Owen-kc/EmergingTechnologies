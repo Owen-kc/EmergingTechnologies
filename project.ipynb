{
 "cells": [
  {
   "cell_type": "markdown",
   "metadata": {},
   "source": [
    "# Deutsch's Algorithm\n",
    "***\n",
    "In this notebook, we will be exploring Deutsch's Algorithm. Before we tackle the algorithm, we must first have an understanding of some fundamental concepts in Quantum Computing. \n",
    "\n",
    "# Table of Contents\n",
    "1. [Introduction to Quantum Computing](#intro)\n",
    "    1. [Historical Context](#history)\n",
    "    2. [Fundamentals of Quantum Computing](#quantum)\n",
    "        1. [Qubits](#quantum-qubits)\n",
    "        2. [Quantum Superposition](#quantum-superposition)\n",
    "        3. [Quantum Entaglement](#quantum-entaglement)\n",
    "        4. [Quantum Gates & Circuits](#quantum-gatescircuits)\n",
    "2. [Deutsch's Algorithm](#deutschalgo)\n",
    "     1. [Deutsch's Problem](#deutschalgo-problem)\n",
    "     2. [The Oracle](#deutschalgo-oracle)\n",
    "     3. [The Quantum Circuit](#deutschalgo-circuit)\n",
    "3. [Qiskit](#qiskit)\n",
    "    1. [Introduction to Qiskit](#qiskit-intro)\n",
    "        1. [Installing Qiskit](#qiskit-install)\n",
    "        2. [Fundamental Concepts in Qiskit](#qiskit-fundamentals)\n",
    "4. [Deutsch's Algorithm in Qiskit](#deutsch-qiskit)\n",
    "    1. [Building the Quantum Circuit](#deutsch-circuit)\n",
    "        1. [The Completed Quantum Circuit](#deutsch-completedcircuit)\n",
    "    2. [Running the Simulation](#deutsch-simulation)\n",
    "5. [Results](#results)\n",
    "6. [Conclusion](#conclusion)\n",
    "7. [References](#refrences)"
   ]
  },
  {
   "cell_type": "markdown",
   "metadata": {},
   "source": [
    "<a id=\"Introduction\"></a>\n",
    "# Introduction to Quantum Computing\n",
    "***\n",
    "\n",
    "At its core, quantum computing is a rapidly-emerging technology that harnesses the laws of quantum mechanics to solve problems too complex for classical computers [<a href=\"#1\">1</a>]. Quantum computers use quantum mechanics concepts such as quantum interference, superposition and entaglement to perform calculations. The main difference between a quantum computer and a classical computer is the way in which they use bits. A classical computer uses bits that are either 0 or 1, whereas a quantum computer uses quantum bits, better known as qubits, which can exist in multiple states simultaneously. In concept, this allows quantum computers to process a significant amount of information at once in comparison to a classical computer. At the moment, quantum computers are unable to solve a meaningful task more efficiently than a classical computer, as quantum computers today have a relatively small number of qubits. More qubits are required to be able to reach the potential to solve complex problems efficiently. Quantum computers have difficulty maintaining qubit stability, which restricts what tasks can be performed without high error rates. Unfortunately it's not as simple as adding more qubits, as scaling up the number of qubits while maintaining consistency and coherence can be costly, and technically challenging. While quantum computing has been a concept for several decades, these issues are what classifies quantum computing as an emerging technology. It's clear there is enormous potential, but there needs to be some more research and computational advances before we can say quantum computers could take the place of classical computers.\n",
    "\n",
    "<a id=\"History\"></a>\n",
    "## Historical Context\n",
    "\n",
    "The theoretical foundation for quantum computing was largely laid in the 1980's by Richard Feynman. In a paper published by Feynman in 1982, *Simulating Physics with Computers* [<a href=\"#2\">2</a>], he stated the difficulty that classical computers face when attempting to simulate quantum systems. In this paper, he proposes that a computer which uses the concepts of quantum mechanics would be much more suited to this task, and highlighted how quantum mechanics could potentially provide new ways of storing and processing information in comparison to classical computers. This paper, among other contributions from Feynman, laid the foundation of quantum computing and conceptualized aspects that are still influential to this day.\n",
    "\n",
    "David Deustch, the creator of the algorithm that this project focuses on, extended Feynman's idea of the quantum computer by forming the quantum Turing machine, which serves as a foundational model for quantum computing. It demonstrated how a quantum computer could surpass classical computers. Deustch then went on to develop the aptly named Deustch's Algorithm which was one of the first algorithms ever designed for a quantum computer.\n",
    "\n",
    "<a id=\"Fundamentals\"></a>\n",
    "## Fundamentals of Quantum Computing\n",
    "\n",
    "### Qubits\n",
    "Qubits are essentially the building blocks of quantum computing. In classical computers, traditional bits represent a basic piece of information and can exist as either 0 or 1. In quantum computers, qubits are used instead. These bits use a quantum mechanics concept called superposition which allows the qubit to exist as 0, 1, or a linear combination of both states at the same time. Qubits are typically represented visually as |0⟩ or |1⟩. Qubits are fragile, and the disruption of an environment containing qubits can easily damage the system and cause decoherence [<a href=\"#3\">3</a>]. Qubits can be implemented in a variety of ways, such as trapped ions, artifical or real atoms, or quasiparticles.\n",
    "\n",
    "### Quantum Superposition\n",
    "Funadamentally, quantum superposition is a principle in quantum mechancis where a quantum system can exist simultaneously in multiple states. A qubit can exist as both 0 and 1 at the same time, which is an example of quantum superposition. In the context of qubits, information being able to represent two values at the same time allows for a vast amount of information to be computed in parallel. \n",
    "\n",
    "### Quantum Entaglement\n",
    "Quantum entaglement is a complex phenomenon in quantum computing. Famously, Einstein referred to quantum entaglement as \"spooky action at a distance\" [<a href=\"#4\">4</a>]. With modern computational advances, we can now better understand entaglement. Quantum entaglement is essentially the exchange of quantum information between two particles at a distance. When in an entagled state, the quantum state of a particle cannot be described independently of another state, regardless of the particles distance. This means that the state of the two particles are inherently influenced by eachother [<a href=\"#5\">5</a>]. \n",
    "\n",
    "### Quantum Gates & Circuits\n",
    "Quantum gates are essential to quantum computing and mechanics. Quantum gates operate on qubits, manipulating their states. As we know, qubits can exist in a linear state of both 0 and 1 due to superposition and entaglement, which means that quantum gates offer more potential operations compared to classical logic gates. A fundamental quantum gate is the identity gate, which operates on a single qubit. The identity gate is the simplest quantum gate poissible. The identity gate is defined as follows [<a href=\"#8\">8</a>]:\n",
    "\n",
    "$$ I |0\\rangle = |0\\rangle $$\n",
    "$$ I |1\\rangle = |1\\rangle $$\n",
    "\n",
    "We can convert the identity gate into a matrix form, which looks like this:\n",
    "\n",
    "$$\n",
    "I = \\begin{pmatrix} 1 & 0 \\\\ 0 & 1 \\end{pmatrix}\n",
    "$$\n",
    "\n",
    "If we pass a qubit through the gate, its state should remain unchanged. Let us pass through a qubit |0⟩ to see how the gate functions.\n",
    "\n",
    "$$\n",
    "I |0\\rangle = \\begin{pmatrix} 1 & 0 \\\\ 0 & 1 \\end{pmatrix} \\begin{pmatrix} 1 \\\\ 0 \\end{pmatrix} = \\begin{pmatrix} 1 \\\\ 0 \\end{pmatrix}\n",
    "$$\n",
    "\n",
    "As we can see, the value of the qubit remains unchanged after it passes through the gate. The gate functions the same for a qubit value of |1⟩ or a qubit in superposition, leaving the state of the qubit identical to what it was before the gate was applied [<a href=\"#6\">6</a>]. This is why the identity gate is the simplest quantum gate possible, as it essentially acts as a \"do nothing\" operation. \n",
    "\n",
    "Quantum circuits represent an ordered sequence of quantum gates in a specific arrangment in order to achieve a quantum computation [<a href=\"#7\">7</a>]. Quantum circuits operate with qubits, as most quantum computing concepts do. "
   ]
  },
  {
   "cell_type": "markdown",
   "metadata": {},
   "source": [
    "<a id=\"Deutschs-Algorithm\"></a>\n",
    "# Deutsch's Algorithm\n",
    "***\n",
    "\n",
    "Now that we understand the fundamental concepts of quantum computing, we can begin to cover the titular Deutsch's Algorithm. The algorithm was created by David Deutsch, who is a renowned British physicist. Deutsch is a pioneer in quantum computing, laying the foundation not only through Deutsch's algorithim but also through his ideas such as the quantum turing machine and his published books, *The Fabric of Reality* and *The Begginning of Infinity* which cover quantum computing. Deutsch's algorithm was the first algorithm that demonstrated quantum advantage, where a quantum computer could solve a problem faster than a classical computer. Deutsch's algorithm determines if a given quantum oracle is constant or balanced. It uses quantum mechanics such as superposition to do this in one operation, which is more efficient than a classical computer.\n",
    "\n",
    "## Deutsch's Problem\n",
    "Deutsch's algorithm solves Deutsch's problem, which is defined as follows [<a href=\"#8\">8</a>]:\n",
    "\n",
    "**Input:** a function $ f:{0,1}→{0,1} $\n",
    "\n",
    "**Output:** 0 if $ f $ is constant, 1 if $ f $ is balanced\n",
    "\n",
    "Deutsch's problem at its core is a simple function, it takes a single bit as input and outputs a single bit. There are four potential one-bit to one-bit functions in the context of Deutsch's algorithm:\n",
    "\n",
    "1. **f1 (Constant)**: Outputs 0 for both inputs: $ f(0) = 0, f(1) = 0 $.\n",
    "2. **f2 (Balanced)**: Outputs 0 for input 0 and 1 for input 1: $ f(0) = 0, f(1) = 1 $.\n",
    "3. **f3 (Balanced)**: Outputs 1 for input 0 and 0 for input 1: $ f(0) = 1, f(1) = 0 $.\n",
    "4. **f4 (Constant)**: Outputs 1 for both inputs: $ f(0) = 1, f(1) = 1 $.\n",
    "\n",
    "\n",
    "In Deutsch's problem, these functions are represented as oracles. The goal is to determine if the function is balanced or constant. With a classical query, it must query both bits, as it can only test one input at a time, and it needs to check both inputs to determine if the function is constant or balanced. However, if we use Deutsch's algorithm, we can leverage quantum mechanics through superposition. We know that superposition allows a qubit to exist in multiple states simultaneously, which means that we can test the problem with a single query. This is why Deutsch's algorithm showcases quantum advantage.\n",
    "\n",
    "## The Oracle\n",
    "Throughout the project, we have briefly mentioned oracles, but in this section we will go in depth into oracles and the function they carry out in the context of Deutsch's algorithm. We know that the general goal of the Deutsch's algorithm is to determine whether a function is balanced or constant. The oracle, usually notated as $Uf$ plays a pivotal role in Deutsch's algorithm, as it represents the actual function that we want to determine the status of. Oracles can also be reffered to as \"black box\" operations. This means that we can only see the inputs and the outputs of the function, without knowing the specific internal workings. \n",
    "\n",
    "In a quantum circuit, qubits are passed through Hadamard gates, which changes their state to a superposition, before they interact with the oracle. When the qubits interact with the oracle, they are encoded with the nature of the function, and depending on the nature of the function, are altered or left unaltered, which is critical to determining whether a function is balanced or constant. For a constant function, the oracle leaves the qubits unchanged. For a balanced function, the oracle introduces change to the qubit [<a href=\"#9\">9</a>]. The transformation of these states is the core of the algorithm, as it is what allows quantum mechanics to complete the operation in one query, in contrast to the classical computers two. To demonstrate this, we can utilize the quantum circuit for Deutsch's algorithm below.\n",
    "\n",
    "## The Quantum Circuit\n",
    "Now that we know what purpose of Deutsch's algorithm and the role of oracles, we can go more in depth into how the algorithm works before we implement it in qiskit. Below is the quantum circuit that describes Deutsch's algorithm [<a href=\"#8\">8</a>]:\n",
    "\n",
    "![Deutsch-algorithm-circuit](./images/deutsch-circuit.png \"Deutsch's algorithm circuit\")\n",
    "\n",
    "1. First, we start with two qubits, ∣0⟩ and ∣1⟩. \n",
    "2. Then, we mix the states of the qubits using the Hadamard gates, which creates an environment for superposition.\n",
    "3. $ Uf $ represents the oracle, which is the function.\n",
    "4. Then, we mix the first qubit again with the Hadamard gate.\n",
    "5. Finally, we measure the first qubit.\n",
    "\n",
    "We know that there are two states a function can be classified as: **Constant** and **Balanced**. Since we are measuring the first qubit, which is ∣0⟩, we know that the function is constant if the result is 0 and balanced if the result is 1. This is because if the result is 0, nothing has changed our qubits from their original state, and if the result is 1, it means that the process transformed our qubits from its original state. The reason the are considered balanced if they change is because a balanced function causes a unique transformation in the quantum state [<a href=\"#10\">10</a>]. "
   ]
  },
  {
   "cell_type": "markdown",
   "metadata": {},
   "source": [
    "# Implementation of Deutsch's Algorithm\n",
    "***\n",
    "Now that we understand how Deutsch's algorithm works, we can demonstrate the algorithm in Qiskit. Qiskit is an open source quantum computing software from IBM. We will first briefly go over what Qiskit is before installing it.\n",
    "\n",
    "## Introduction to Qiskit\n",
    "Qiskit is an open source tool developed for quantum computing, developed by IBM. It's designed to write quantum computing algorithm, running them on quantum machines through IBM Q, and then simulating them on classical computers. There are several different elements of Qiskit:\n",
    "- Terra: Foundation for quantum circuits, qubit management, circuit creation and gate operations\n",
    "- Aer: Provides a simulation environment to test and validate quantum circuits on classical computers.\n",
    "- Ignis: Mainly used for error correction, essential for achieving reliable results.\n",
    "- Aqua: Hosts the libraries of quantim algorithms and applications.\n",
    "\n",
    "When simulating Deutsch's algorithm, we will mainly use Terra and Aer for building the quantum circuit and simulating it. We don't particularly require the use of Ignis or Aqua, as they aren't relevant to Deutsch's Algorithm.\n",
    "\n",
    "Here's how they interact with eachother [<a href=\"#11\">11</a>]:\n",
    "\n",
    "![Qiskit-overview](./images/qiskit-overview.png \"Overview of Qiskit foundation\")\n",
    "### Installing Qiskit\n",
    "First, we need to ensure Qiskit is installed. If Anaconda or Miniconda was used to install, Qiskit should be installed:\n",
    "```\n",
    "pip install qiskit \n",
    "```"
   ]
  },
  {
   "cell_type": "markdown",
   "metadata": {},
   "source": [
    "Then, let's check the version to ensure we have the latest version:"
   ]
  },
  {
   "cell_type": "code",
   "execution_count": 21,
   "metadata": {},
   "outputs": [
    {
     "name": "stdout",
     "output_type": "stream",
     "text": [
      "0.45.1\n"
     ]
    }
   ],
   "source": [
    "import qiskit\n",
    "print(qiskit.__version__)"
   ]
  },
  {
   "cell_type": "markdown",
   "metadata": {},
   "source": [
    "We can see that the latest version of Qiskit is intsalled."
   ]
  },
  {
   "cell_type": "markdown",
   "metadata": {},
   "source": [
    "#### Fundamental Concepts in Qiskit\n",
    "Before we delve into creating Deutsch's algorithm in Qiskit, we first will take a simple example, so we have an understanding of how exactly Qiskit works. This example is referred to as the \"Hello World\" example by IBM, which essentially means that it is the simplest example possible. In a quantum program, quantum circuits are the format to represent quantum instructions, and operators represent the observables to be measured[<a href=\"#12\">12</a>]. In the example below, we will create a simple circuit with Qiskit. We will first install matplotlib and pylatexenc to visualize the circuit:\n",
    "\n",
    "```\n",
    "pip install --user matplotlib pylatexenc\n",
    "```"
   ]
  },
  {
   "cell_type": "code",
   "execution_count": 2,
   "metadata": {},
   "outputs": [
    {
     "data": {
      "image/png": "[encoded data removed]",
      "text/plain": [
       "<Figure size 287.294x200.667 with 1 Axes>"
      ]
     },
     "execution_count": 2,
     "metadata": {},
     "output_type": "execute_result"
    }
   ],
   "source": [
    "from qiskit import QuantumCircuit\n",
    " \n",
    "#Create a new circuit with two qubits\n",
    "qc = QuantumCircuit(2)\n",
    " \n",
    "# Add a Hadamard gate to qubit 0\n",
    "qc.h(0)\n",
    " \n",
    "# Perform a CNOT gate on qubit 1\n",
    "qc.cx(0, 1)\n",
    " \n",
    "# Return a drawing of the circuit using MatPlotLib (\"mpl\").\n",
    "qc.draw(\"mpl\") #update this with mpl"
   ]
  },
  {
   "cell_type": "markdown",
   "metadata": {},
   "source": [
    "We can see a very simple circuit above, which has two qubits. Qubit 0 has a Hadamard gate applied to it, while qubit 1 has CNOT, also known as the Controlled NOT gate applied to it. The Hadamard gate puts qubit 0 into a superposition state, while the CNOT gate performs a conditional operation where the state of the second qubit is flipped only if the first qubit is in the state |1⟩."
   ]
  },
  {
   "cell_type": "markdown",
   "metadata": {},
   "source": [
    "# Deutsch's Algorithm in Qiskit\n",
    "***\n",
    "Now that we have a grounding in the fundamentals of quantum computing, and an introduction to the essential components of Qiskit, we can begin implementing Deutsch's algorithm in Qiskit. Although it was mentioned previously in the project, let's provide an overview of the goal of Deutsch's algorithm and the result we are looking to achieve in this section, for clarity.\n",
    "\n",
    "#### Goal of Deutsch's algorithm\n",
    "Deutsch's algorithm represents a fundamental concept in quantum computing. It demonstrates quantum advantage, which means that a quantum computer has an advantage over a classical computer, or in other words, can complete an operation more efficiently. The overall goal of the algorithm is to determine whether a given function, also referred to as an oracle or black box operation, is either a **constant** function or a **balanced** function. In classical computers, determining this would require multiple queries. However, Deutsch's algorithm can apply quantum mechanics like superposition and interference to complete determine the result in a single query.\n",
    "\n",
    "#### Expected result\n",
    "The expected result of applying Deutsch's algorithm will be dependant on the oracle. \n",
    "\n",
    "- If the oracle represents a **constant** function, the qubits in the quantum circuit will return to their original state.\n",
    "- If the oracle represents a **balanced** function, the qubits in the quantim circuit will be altered.\n",
    "\n",
    "We should be able to determine the result in a single query, in line with our expectation of demonstrating quantum advantage.  It's important to remember that with Deutsch's algorithm, we typically only test for the first qubit.\n",
    "\n",
    "## Building the Quantum Circuit\n",
    "Let's begin by starting our implementation of the quantum circuit for Deutsch's algorithm. First, we want to implement a method for generating different versions of the oracle, so that we can test for both a constant function and a balanced function [<a href=\"#13\">13</a>]. While we would be able to construct a static constant or balanced circuit, we then wouldn't be able to test for a specific case number. Each case number will represent a function, whether it be balanced or constant, so we need a function to define these.\n"
   ]
  },
  {
   "cell_type": "code",
   "execution_count": 7,
   "metadata": {},
   "outputs": [],
   "source": [
    "from qiskit import QuantumCircuit\n",
    "\n",
    "# Define method to create a specific function, pass case number as a parameter\n",
    "def create_oracle(case):\n",
    "    oracle = QuantumCircuit(2)\n",
    "    if case == 1:       # 1 - Constant function (do nothing)\n",
    "        pass\n",
    "    elif case == 2:     # 2 - Balanced function (CNOT gate)\n",
    "        oracle.cx(0, 1)\n",
    "    elif case == 3:     # 3 - Balanced function (CNOT and X gate)\n",
    "        oracle.x(0)\n",
    "        oracle.cx(0, 1)\n",
    "        oracle.x(0)\n",
    "    elif case == 4:     # 4 - Constant function (X gate)\n",
    "        oracle.i(0)\n",
    "        oracle.x(1)\n",
    "    return oracle"
   ]
  },
  {
   "cell_type": "markdown",
   "metadata": {},
   "source": [
    "In the code above, we create a function called *create_oracle*. This functions purpose is for us to be able to test a circuit that has both a constant and a balanced function.\n",
    "\n",
    "- **Constant functions:** For a function to be constant, the output must be the same, regardless of the input. \n",
    "    - Case 1: No gates are applied, so the output is always ∣0⟩.\n",
    "    - Case 4: An X gate is applied unconditionally, which flips the qubit to ∣1⟩. This happens regardless of the input, so the output is always ∣1⟩.\n",
    "\n",
    "- **Balanced functions:** For a function to be balanced, it must provide an equal number of ∣0⟩ and ∣1⟩ outputs across all possible inputs.\n",
    "    - Case 2: A CNOT gate is applied, which flips the output only if the first qubit is ∣1⟩, which maintains a balanced structure.\n",
    "    - Case 3: A CNOT gate is used again, but an X gate inverts the output, which maintains the balanced structure.\n",
    "\n",
    "We then ensure the case number is valid, before initializing a circuit with 2 qubits. Finally, we have if/elif statements which check what the case is, and applies the relevant gate depending on the case number. The operations in the code above are designed to set our function to be constant or balanced, which we can then use to accurately test through Deutsch's algorithm.\n",
    "\n",
    "Now we can start creating the circuit itself, using the case function to define if it's consant or balanced. Let's start by defining the method, case number, and creating the function and initial qubits: "
   ]
  },
  {
   "cell_type": "code",
   "execution_count": 20,
   "metadata": {},
   "outputs": [],
   "source": [
    "# Define the method, takes 1 parameter, which is the case number we defined above\n",
    "def deutsch_algorithm(case):\n",
    "\n",
    "    #Create the oracle, which takes the case number parameter too\n",
    "    oracle = create_oracle(case)\n",
    "\n",
    "    # Create the Deutsch circuit, initializing it with 2 qubits and 1 classical bit\n",
    "    deutsch_circuit = QuantumCircuit(2, 1)"
   ]
  },
  {
   "cell_type": "markdown",
   "metadata": {},
   "source": [
    "We have now created the circuit with two qubits. Next, we prepare the initial state for the circuit. When qubits are created, they are initialized as |0⟩ by default [<a href=\"#13\">13</a>]. Therefore, we need to set the state of the second qubit to |1⟩ so we have the correct conditions for quantum interference to take place. This is essential for the functionality of Deutsch's algorithm, as it allows differentiation between constant and balanced functions. The state of the second qubit being ∣1⟩ enables phase kickback from the oracle, which allows us to determine whether the function is constant or balanced in a single query.\n",
    "\n",
    "Lets continue building the circuit by preparing the initial state:"
   ]
  },
  {
   "cell_type": "code",
   "execution_count": 36,
   "metadata": {},
   "outputs": [],
   "source": [
    "# Previous code\n",
    "def deutsch_algorithm(case):\n",
    "    oracle = create_oracle(case)\n",
    "    deutsch_circuit = QuantumCircuit(2, 1)\n",
    "#\n",
    "\n",
    "    # Prepare the initial state\n",
    "    deutsch_circuit.x(1)"
   ]
  },
  {
   "cell_type": "markdown",
   "metadata": {},
   "source": [
    "We have now applied an x gate to the second qubit, which will flip its state to ∣1⟩. Next, we will apply Hadamard gates to both of the qubits. The Hadamard gates will put the qubits into a superposition state, which we know is a linear combination of both states, ∣0⟩ and ∣1⟩, simultaneously. This will allow us to evaluate the function for both inputs with one query."
   ]
  },
  {
   "cell_type": "code",
   "execution_count": 29,
   "metadata": {},
   "outputs": [],
   "source": [
    "# Previous code\n",
    "def deutsch_algorithm(case):\n",
    "    oracle = create_oracle(case)\n",
    "    deutsch_circuit = QuantumCircuit(2, 1)\n",
    "\n",
    "    deutsch_circuit.x(1)\n",
    "#\n",
    "    \n",
    "    # Add Hadamard gate to both 0 and 1\n",
    "    deutsch_circuit.h([0, 1])"
   ]
  },
  {
   "cell_type": "markdown",
   "metadata": {},
   "source": [
    "Now that the two Hadamard gates have been applied, the qubits should be in a superposition state. The next step is to add our oracle, which is the key component in our application of Deutsch's algorithm, as it represents the function itself."
   ]
  },
  {
   "cell_type": "code",
   "execution_count": 28,
   "metadata": {},
   "outputs": [],
   "source": [
    "# Previous code\n",
    "def deutsch_algorithm(case):\n",
    "    oracle = create_oracle(case)\n",
    "    deutsch_circuit = QuantumCircuit(2, 1)\n",
    "\n",
    "    deutsch_circuit.x(1)\n",
    "    deutsch_circuit.h([0, 1])\n",
    "#\n",
    "    \n",
    "    # Use compose to add the oracle to the circuit, with inplace=True as a parameter.\n",
    "    deutsch_circuit.compose(oracle, inplace=True)\n"
   ]
  },
  {
   "cell_type": "markdown",
   "metadata": {},
   "source": [
    "The oracle has been added to the circuit through the use of compose. The \"inplace\" statement is set to True, which is used to modify the existing circuit with the oracle. If the statement was set to False, it would mean that it would create and return a new circuit, leaving the circuit that we have created unchanged. Next, we will complete the final step of the circuit creation by adding another Hadamard gate to the first qubit."
   ]
  },
  {
   "cell_type": "code",
   "execution_count": 46,
   "metadata": {},
   "outputs": [],
   "source": [
    "# Previous code\n",
    "def deutsch_algorithm(case):\n",
    "    oracle = create_oracle(case)\n",
    "    deutsch_circuit = QuantumCircuit(2, 1)\n",
    "\n",
    "    deutsch_circuit.x(1)\n",
    "    deutsch_circuit.h([0, 1])\n",
    "\n",
    "    deutsch_circuit.compose(oracle, inplace=True)\n",
    "#\n",
    "\n",
    "    # Add Hadamard gate to qubit 0\n",
    "    deutsch_circuit.h(0)\n",
    "    # Add measure to end of circuit\n",
    "    deutsch_circuit.measure(0, 0)\n",
    "    # Display the circuit through mpl library\n",
    "    display(deutsch_circuit.draw('mpl'))\n",
    "\n",
    "    return deutsch_circuit"
   ]
  },
  {
   "cell_type": "markdown",
   "metadata": {},
   "source": [
    "We have now added another Hadamard gate to the first qubit. We do this as it's essential to creating interference, which will lead us to a measureable outcome. When the qubit passes through the oracle, and the final Hadamard gate is applied to the qubit, it interferes with the state of the qubit again. The interference can be constructive, or destructive:\n",
    "\n",
    "- **Constructive Interference:** If the oracle is a constant function, it leaves the superposition state of the qubit relatively unchanged. The final Hadamard gate then causes constructive interference, where the paths push the qubit back to ∣0⟩.\n",
    "\n",
    "- **Destructive Interference:** If the oracle is a balanced function, it flips the qubits state. The final Hadamard gate then causes destructive interference, where the paths cancel out, leading the result more likely to be ∣1⟩.\n",
    "\n",
    "We also apply a measure to the circuit, and define the draw method through mpl before returning the circuit. Now, the circuit is functionally complete. We have passed the first qubit through the circuit, oracle and relevant gates, which effectively employs Deutsch's algorithm. "
   ]
  },
  {
   "cell_type": "markdown",
   "metadata": {},
   "source": [
    "### The Completed Quantum Circuit\n",
    "Now that we have completed the functional implementation for the quantum circuit, we can visualize the output of the circuit. Below is the full code from the creation of the quantum circuit. While the code blocks through the building of the quantum circuit would work for visualizing, it's best to run the entire code as one execution, to ensure that there are no unforseen issues. This will also give us the opportunity to apply barriers in the circuit, which will give some visual clarity in the visualization of the circuits. I will remove the comments I have had in the code above for readability, but if a need arises to understand how the code is working, refer to the explanation or comments of the code during the building of the circuit."
   ]
  },
  {
   "cell_type": "code",
   "execution_count": 49,
   "metadata": {},
   "outputs": [],
   "source": [
    "from qiskit import QuantumCircuit\n",
    "\n",
    "# Create oracle function\n",
    "def create_oracle(case):\n",
    "    oracle = QuantumCircuit(2)\n",
    "    if case == 1:  \n",
    "        pass\n",
    "    elif case == 2:  \n",
    "        oracle.cx(0, 1)\n",
    "    elif case == 3:  \n",
    "        oracle.x(0)\n",
    "        oracle.cx(0, 1)\n",
    "        oracle.x(0)\n",
    "    elif case == 4:  \n",
    "        oracle.i(0)\n",
    "        oracle.x(1)\n",
    "    return oracle\n",
    "\n",
    "# Algorithm function\n",
    "def deutsch_algorithm(case_number):\n",
    "    \n",
    "    oracle = create_oracle(case_number)\n",
    "    deutsch_circuit = QuantumCircuit(2, 1)\n",
    "    \n",
    "    deutsch_circuit.x(1)\n",
    "    deutsch_circuit.barrier()\n",
    "    \n",
    "    deutsch_circuit.h([0, 1])\n",
    "    deutsch_circuit.barrier()\n",
    "\n",
    "    deutsch_circuit.compose(oracle, inplace=True)\n",
    "    deutsch_circuit.barrier()\n",
    " \n",
    "    deutsch_circuit.h(0)\n",
    "\n",
    "    deutsch_circuit.measure(0, 0)\n",
    "    display(deutsch_circuit.draw('mpl')) \n",
    "\n",
    "    return deutsch_circuit"
   ]
  },
  {
   "cell_type": "markdown",
   "metadata": {},
   "source": [
    "Above we have the completed code, including the oracle creation function and the algorthim function. To visualize a circuit, we go through the case number. The reason for having a seperate case number function is so that we can test for any desired case number by just changing a value. Here's how we can visualize the circuit for case number 1:"
   ]
  },
  {
   "cell_type": "code",
   "execution_count": 51,
   "metadata": {},
   "outputs": [
    {
     "data": {
      "image/png": "[encoded data removed]",
      "text/plain": [
       "<Figure size 705.35x284.278 with 1 Axes>"
      ]
     },
     "metadata": {},
     "output_type": "display_data"
    },
    {
     "data": {
      "text/plain": [
       "<qiskit.circuit.quantumcircuit.QuantumCircuit at 0x22033b33990>"
      ]
     },
     "execution_count": 51,
     "metadata": {},
     "output_type": "execute_result"
    }
   ],
   "source": [
    "# Define the case number\n",
    "case_number = 1\n",
    "# Pass the case number to the algorithm\n",
    "deutsch_algorithm(case_number)"
   ]
  },
  {
   "cell_type": "markdown",
   "metadata": {},
   "source": [
    "We can see above the visualization for case number 1, which we know is a constant function as defined previously in the project. We will verify that this is a constant version in the next section of the project, but before we do that, let's visualize a balanced function too, in this case, 3."
   ]
  },
  {
   "cell_type": "code",
   "execution_count": 52,
   "metadata": {},
   "outputs": [
    {
     "data": {
      "image/png": "[encoded data removed]",
      "text/plain": [
       "<Figure size 956.183x284.278 with 1 Axes>"
      ]
     },
     "metadata": {},
     "output_type": "display_data"
    },
    {
     "data": {
      "text/plain": [
       "<qiskit.circuit.quantumcircuit.QuantumCircuit at 0x22034f42a10>"
      ]
     },
     "execution_count": 52,
     "metadata": {},
     "output_type": "execute_result"
    }
   ],
   "source": [
    "# Define the case number\n",
    "case_number = 3\n",
    "# Pass the case number to the algorithm\n",
    "deutsch_algorithm(case_number)"
   ]
  },
  {
   "cell_type": "markdown",
   "metadata": {},
   "source": [
    "We can see in this example that the circuit has changed. It has more gates, as we defined in our *create_oracle* function. Next, we will move on to the simulation of the circuit to ensure that the circuit is functioning as expected, and test whether the oracle is a constant or balanced function."
   ]
  },
  {
   "cell_type": "markdown",
   "metadata": {},
   "source": [
    "## Running the simulation\n",
    "\n",
    "```\n",
    "pip install qiskit-aer\n",
    "```"
   ]
  },
  {
   "cell_type": "code",
   "execution_count": null,
   "metadata": {},
   "outputs": [],
   "source": [
    "from qiskit import Aer, execute\n",
    "\n",
    "\n",
    "# Dictionary to translate case numbers to labels\n",
    "case_labels = {1: 'constant', 2: 'balanced', 3: 'balanced', 4: 'constant'}\n",
    "\n",
    "# Loop over case numbers instead of labels\n",
    "for case_number in [1, 2, 3, 4]:\n",
    "    case_label = case_labels[case_number]\n",
    "    circuit = deutsch_algorithm(case_number)\n",
    "    simulator = Aer.get_backend('qasm_simulator')\n",
    "    job = execute(circuit, simulator, shots=1024)\n",
    "    result = job.result()\n",
    "    counts = result.get_counts(circuit)\n",
    "    print(f\"Case: {case_label} (Case number {case_number}), Output: {counts}\")"
   ]
  },
  {
   "cell_type": "markdown",
   "metadata": {},
   "source": [
    "<a id=\"References\"></a>\n",
    "# References\n",
    "***\n",
    "\n",
    "<a id=\"1\"></a>[1] \"Quantum Computing.\" IBM. Available at: [https://www.ibm.com/topics/quantum-computing](https://www.ibm.com/topics/quantum-computing)\n",
    "\n",
    "<a id=\"2\"></a>[2] \"Simulating Physics with Computers.\" Richard P. Feynman. Available at: [https://s2.smu.edu/~mitch/class/5395/papers/feynman-quantum-1981.pdf](https://s2.smu.edu/~mitch/class/5395/papers/feynman-quantum-1981.pdf)\n",
    "\n",
    "<a id=\"3\"></a>[3] \"What is a Qubit?\" Microsoft Azure. Available at: [https://azure.microsoft.com/en-gb/resources/cloud-computing-dictionary/what-is-a-qubit](https://azure.microsoft.com/en-gb/resources/cloud-computing-dictionary/what-is-a-qubit)\n",
    "\n",
    "<a id=\"4\"></a>[4] \"Einstein's ‘spooky action at a distance' spotted in objects almost big enough to see\" Science.org. Available at: [https://www.science.org/content/article/einstein-s-spooky-action-distance-spotted-objects-almost-big-enough-see](https://www.science.org/content/article/einstein-s-spooky-action-distance-spotted-objects-almost-big-enough-see)\n",
    "\n",
    "<a id=\"5\"></a>[5] \"Quantum Entaglement and Information\" Stanford. Available at: [https://plato.stanford.edu/entries/qt-entangle/](https://plato.stanford.edu/entries/qt-entangle/)\n",
    "\n",
    "<a id=\"6\"></a>[6] \"Quantum Gates, Quantum Circuit and Quantum Computation\" Willaim & Mary (edu). Available at: [https://cklixx.people.wm.edu/teaching/QC2021/QC-chapter5.pdf](https://cklixx.people.wm.edu/teaching/QC2021/QC-chapter5.pdf)\n",
    "\n",
    "<a id=\"7\"></a>[7] \"Quantum Circuits\" IBM. Available at: [https://docs.quantum.ibm.com/api/qiskit/circuit](https://docs.quantum.ibm.com/api/qiskit/circuit)\n",
    "\n",
    "<a id=\"8\"></a>[8] \"Quantum query algorithms\" IBM. Available at: [https://learning.quantum.ibm.com/course/fundamentals-of-quantum-algorithms/quantum-query-algorithms](https://learning.quantum.ibm.com/course/fundamentals-of-quantum-algorithms/quantum-query-algorithms)\n",
    "\n",
    "<a id=\"9\"></a>[9] \"Deutsch's Algorithm\" Qubit.guide. Available at: [https://qubit.guide/10.4-deutschs-algorithm](https://qubit.guide/10.4-deutschs-algorithm) \n",
    "\n",
    "<a id=\"10\"></a>[10] \"The Deutsch Algorithm\" Full-Stack Quantum Computation. Available at: [https://fullstackquantumcomputation.tech/blog/deutsch-algorithm/](https://fullstackquantumcomputation.tech/blog/deutsch-algorithm/) \n",
    "\n",
    "<a id=\"11\"></a>[11] \"The Qiskit Elements\" IBM. Available at: [https://qiskit.org/documentation/stable/0.24/the_elements.html](https://qiskit.org/documentation/stable/0.24/the_elements.html) \n",
    "\n",
    "<a id=\"12\"></a>[12] \"Hello World\" IBM. Available at: [https://docs.quantum.ibm.com/start/hello-world](https://docs.quantum.ibm.com/start/hello-world) \n",
    "\n",
    "<a id=\"13\"></a>[13] \"Quantum Query Algorithms (Deutsch's algorithm/Implementation)\" IBM. Available at: [https://learning.quantum.ibm.com/course/fundamentals-of-quantum-algorithms/quantum-query-algorithms#implementation](https://learning.quantum.ibm.com/course/fundamentals-of-quantum-algorithms/quantum-query-algorithms#implementation) \n",
    "\n",
    "<a id=\"14\"></a>[14] \"Qubit basis states\" Quantum Inspire. Available at: [https://www.quantum-inspire.com/kbase/qubit-basis-states/](https://www.quantum-inspire.com/kbase/qubit-basis-states/) \n",
    "\n",
    "\n"
   ]
  },
  {
   "cell_type": "markdown",
   "metadata": {},
   "source": []
  }
 ],
 "metadata": {
  "kernelspec": {
   "display_name": "base",
   "language": "python",
   "name": "python3"
  },
  "language_info": {
   "codemirror_mode": {
    "name": "ipython",
    "version": 3
   },
   "file_extension": ".py",
   "mimetype": "text/x-python",
   "name": "python",
   "nbconvert_exporter": "python",
   "pygments_lexer": "ipython3",
   "version": "3.11.5"
  }
 },
 "nbformat": 4,
 "nbformat_minor": 2
}
